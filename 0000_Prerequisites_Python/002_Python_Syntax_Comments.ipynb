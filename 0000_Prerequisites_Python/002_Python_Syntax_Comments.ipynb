{
  "nbformat": 4,
  "nbformat_minor": 0,
  "metadata": {
    "colab": {
      "name": "002_Python_Syntax_Comments.ipynb",
      "provenance": [],
      "authorship_tag": "ABX9TyMkNdcmsFjfTyp/EfVDaqpO",
      "include_colab_link": true
    },
    "kernelspec": {
      "name": "python3",
      "display_name": "Python 3"
    },
    "language_info": {
      "name": "python"
    }
  },
  "cells": [
    {
      "cell_type": "markdown",
      "metadata": {
        "id": "view-in-github",
        "colab_type": "text"
      },
      "source": [
        "<a href=\"https://colab.research.google.com/github/salarMokhtariL/ML_Course/blob/main/0000-Prerequisites_Python/002_Python_Syntax_Comments.ipynb\" target=\"_parent\"><img src=\"https://colab.research.google.com/assets/colab-badge.svg\" alt=\"Open In Colab\"/></a>"
      ]
    },
    {
      "cell_type": "markdown",
      "source": [
        "![S letter logo with gradient colourful logo.png](data:image/png;base64,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)"
      ],
      "metadata": {
        "id": "XEol7BUTHyuZ"
      }
    },
    {
      "cell_type": "markdown",
      "source": [
        "## Execute Python Syntax\n",
        "Python syntax can be executed by writing directly in the Command Line:"
      ],
      "metadata": {
        "id": "6dmcX6H_loB6"
      }
    },
    {
      "cell_type": "code",
      "source": [
        "print(\"Hellowe, world!\")"
      ],
      "metadata": {
        "colab": {
          "base_uri": "https://localhost:8080/"
        },
        "id": "eHULNmQsl4rx",
        "outputId": "354fc4cd-8b62-43fa-b2f3-ef0cc28074b3"
      },
      "execution_count": null,
      "outputs": [
        {
          "output_type": "stream",
          "name": "stdout",
          "text": [
            "Hellowe, world!\n"
          ]
        }
      ]
    },
    {
      "cell_type": "markdown",
      "source": [
        "# Python Indentation\n",
        "\n",
        "Indentation refers to the spaces at the beginning of a code line.\n",
        "\n",
        "Where in other programming languages the indentation in code is for readability only, the indentation in Python is very important.\n",
        "\n",
        "Python uses indentation to indicate a block of code."
      ],
      "metadata": {
        "id": "HwghxMbumEXf"
      }
    },
    {
      "cell_type": "code",
      "source": [
        "if 5 > 2:\n",
        "  print(\"Five is greater than two!\")"
      ],
      "metadata": {
        "colab": {
          "base_uri": "https://localhost:8080/"
        },
        "id": "o8oz0JAfl_yD",
        "outputId": "6b24d73c-c57c-4dbc-dd34-e0fce8d68470"
      },
      "execution_count": null,
      "outputs": [
        {
          "output_type": "stream",
          "name": "stdout",
          "text": [
            "Five is greater than two!\n"
          ]
        }
      ]
    },
    {
      "cell_type": "markdown",
      "source": [
        "Python will give you an error if you skip the indentation:"
      ],
      "metadata": {
        "id": "-piK89z3mXr1"
      }
    },
    {
      "cell_type": "code",
      "source": [
        "if 5 > 2:\n",
        "print(\"Five is greater than two!\")"
      ],
      "metadata": {
        "colab": {
          "base_uri": "https://localhost:8080/",
          "height": 130
        },
        "id": "g1vhaaGJmUQV",
        "outputId": "71ce892e-aa0e-44f0-d45f-ffa420ba0ea3"
      },
      "execution_count": null,
      "outputs": [
        {
          "output_type": "error",
          "ename": "IndentationError",
          "evalue": "ignored",
          "traceback": [
            "\u001b[0;36m  File \u001b[0;32m\"<ipython-input-3-a314491c53bb>\"\u001b[0;36m, line \u001b[0;32m2\u001b[0m\n\u001b[0;31m    print(\"Five is greater than two!\")\u001b[0m\n\u001b[0m        ^\u001b[0m\n\u001b[0;31mIndentationError\u001b[0m\u001b[0;31m:\u001b[0m expected an indented block\n"
          ]
        }
      ]
    },
    {
      "cell_type": "markdown",
      "source": [
        "The number of spaces is up to you as a programmer, but it has to be at least one.\n",
        "\n"
      ],
      "metadata": {
        "id": "Hl3iluJimckp"
      }
    },
    {
      "cell_type": "code",
      "source": [
        "if 5 > 2:\n",
        " print(\"Five is greater than two!\") \n",
        "if 5 > 2:\n",
        "        print(\"Five is greater than two!\") "
      ],
      "metadata": {
        "colab": {
          "base_uri": "https://localhost:8080/"
        },
        "id": "kRS4vq6Kmat7",
        "outputId": "23884506-2058-4da5-be52-fd44fc4b9272"
      },
      "execution_count": null,
      "outputs": [
        {
          "output_type": "stream",
          "name": "stdout",
          "text": [
            "Five is greater than two!\n",
            "Five is greater than two!\n"
          ]
        }
      ]
    },
    {
      "cell_type": "markdown",
      "source": [
        "You have to use the same number of spaces in the same block of code, otherwise Python will give you an error:\n",
        "\n"
      ],
      "metadata": {
        "id": "5qtWT5iumib-"
      }
    },
    {
      "cell_type": "code",
      "source": [
        "if 5 > 2:\n",
        " print(\"Five is greater than two!\")\n",
        "        print(\"Five is greater than two!\")"
      ],
      "metadata": {
        "colab": {
          "base_uri": "https://localhost:8080/",
          "height": 130
        },
        "id": "8-YZriUwmfvT",
        "outputId": "ff96d104-4a6d-41b0-ba60-a257f7e50265"
      },
      "execution_count": null,
      "outputs": [
        {
          "output_type": "error",
          "ename": "IndentationError",
          "evalue": "ignored",
          "traceback": [
            "\u001b[0;36m  File \u001b[0;32m\"<ipython-input-5-a4dba24e2a47>\"\u001b[0;36m, line \u001b[0;32m3\u001b[0m\n\u001b[0;31m    print(\"Five is greater than two!\")\u001b[0m\n\u001b[0m    ^\u001b[0m\n\u001b[0;31mIndentationError\u001b[0m\u001b[0;31m:\u001b[0m unexpected indent\n"
          ]
        }
      ]
    },
    {
      "cell_type": "markdown",
      "source": [
        "# Python Comments\n",
        "\n",
        "Comments can be used to explain Python code.\n",
        "\n",
        "Comments can be used to make the code more readable.\n",
        "\n",
        "Comments can be used to prevent execution when testing code.\n",
        "\n",
        "## Creating a Comment\n",
        "Comments starts with a `#`, and Python will ignore them:\n",
        "\n"
      ],
      "metadata": {
        "id": "ClhjfjixmlTM"
      }
    },
    {
      "cell_type": "code",
      "source": [
        "#This is a comment\n",
        "print(\"Hello, World!\")"
      ],
      "metadata": {
        "colab": {
          "base_uri": "https://localhost:8080/"
        },
        "id": "EiPTkgcemkrw",
        "outputId": "cc774e81-3f3c-4394-eeba-9adf3f3cae0e"
      },
      "execution_count": null,
      "outputs": [
        {
          "output_type": "stream",
          "name": "stdout",
          "text": [
            "Hello, World!\n"
          ]
        }
      ]
    },
    {
      "cell_type": "markdown",
      "source": [
        "Comments can be placed at the end of a line, and Python will ignore the rest of the line:\n",
        "\n"
      ],
      "metadata": {
        "id": "0UDWNkp6nCh0"
      }
    },
    {
      "cell_type": "code",
      "source": [
        "print(\"Hello, World!\") #This is a comment"
      ],
      "metadata": {
        "colab": {
          "base_uri": "https://localhost:8080/"
        },
        "id": "jtNqmP6pnB8d",
        "outputId": "118b10f9-8c41-44ef-eaf2-819a4cb27af7"
      },
      "execution_count": null,
      "outputs": [
        {
          "output_type": "stream",
          "name": "stdout",
          "text": [
            "Hello, World!\n"
          ]
        }
      ]
    },
    {
      "cell_type": "markdown",
      "source": [
        "A comment does not have to be text that explains the code, it can also be used to prevent Python from executing code:"
      ],
      "metadata": {
        "id": "Wiks16mLnI1y"
      }
    },
    {
      "cell_type": "code",
      "source": [
        "#print(\"Hello, World!\")\n",
        "print(\"Cheers, Mate!\")"
      ],
      "metadata": {
        "colab": {
          "base_uri": "https://localhost:8080/"
        },
        "id": "7Yzm8R94nGsG",
        "outputId": "a0ec926e-4834-4703-8dc2-9351e4433927"
      },
      "execution_count": null,
      "outputs": [
        {
          "output_type": "stream",
          "name": "stdout",
          "text": [
            "Cheers, Mate!\n"
          ]
        }
      ]
    }
  ]
}