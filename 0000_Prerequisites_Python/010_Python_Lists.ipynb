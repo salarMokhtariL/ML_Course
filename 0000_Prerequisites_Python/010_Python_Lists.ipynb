{
  "nbformat": 4,
  "nbformat_minor": 0,
  "metadata": {
    "colab": {
      "name": "010_Python_Lists.ipynb",
      "provenance": [],
      "authorship_tag": "ABX9TyOfWVB70fbl+zzU1URHLLi6",
      "include_colab_link": true
    },
    "kernelspec": {
      "name": "python3",
      "display_name": "Python 3"
    },
    "language_info": {
      "name": "python"
    }
  },
  "cells": [
    {
      "cell_type": "markdown",
      "metadata": {
        "id": "view-in-github",
        "colab_type": "text"
      },
      "source": [
        "<a href=\"https://colab.research.google.com/github/salarMokhtariL/ML_Course/blob/main/0000-Prerequisites_Python/010_Python_Lists.ipynb\" target=\"_parent\"><img src=\"https://colab.research.google.com/assets/colab-badge.svg\" alt=\"Open In Colab\"/></a>"
      ]
    },
    {
      "cell_type": "markdown",
      "source": [
        "![S letter logo with gradient colourful logo.png](data:image/png;base64,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)"
      ],
      "metadata": {
        "id": "vloVo-duKDYH"
      }
    },
    {
      "cell_type": "markdown",
      "source": [
        "# Python Lists\n",
        "\n",
        "\n",
        "\n",
        "```\n",
        "mylist = [\"apple\", \"banana\", \"cherry\"]\n",
        "```\n",
        "\n",
        "List\n",
        "Lists are used to store multiple items in a single variable.\n",
        "\n",
        "Lists are one of 4 built-in data types in Python used to store collections of data, the other 3 are Tuple, Set, and Dictionary, all with different qualities and usage.\n",
        "\n",
        "Lists are created using square brackets:\n",
        "\n"
      ],
      "metadata": {
        "id": "ZC4B2G_3AdYW"
      }
    },
    {
      "cell_type": "code",
      "source": [
        "# Create a List:\n",
        "\n",
        "thislist = [\"apple\", \"banana\", \"cherry\"]\n",
        "print(thislist)"
      ],
      "metadata": {
        "colab": {
          "base_uri": "https://localhost:8080/"
        },
        "id": "h0Fu3tiDBsbb",
        "outputId": "748f7754-a2b5-4085-90f9-48b59b657960"
      },
      "execution_count": null,
      "outputs": [
        {
          "output_type": "stream",
          "name": "stdout",
          "text": [
            "['apple', 'banana', 'cherry']\n"
          ]
        }
      ]
    },
    {
      "cell_type": "markdown",
      "source": [
        "### List Items\n",
        "\n",
        "List items are ordered, changeable, and allow duplicate values.\n",
        "\n",
        "List items are indexed, the first item has index `[0]`, the second item has index `[1]` etc.\n",
        "\n"
      ],
      "metadata": {
        "id": "ckpoKIXyBx2D"
      }
    },
    {
      "cell_type": "markdown",
      "source": [
        "### Ordered\n",
        "When we say that lists are ordered, it means that the items have a defined order, and that order will not change.\n",
        "\n",
        "If you add new items to a list, the new items will be placed at the end of the list."
      ],
      "metadata": {
        "id": "3uXiDGQpEl0U"
      }
    },
    {
      "cell_type": "markdown",
      "source": [
        "### Changeable\n",
        "\n",
        "The list is changeable, meaning that we can change, add, and remove items in a list after it has been created.\n",
        "\n"
      ],
      "metadata": {
        "id": "CDVMf-o1EsVc"
      }
    },
    {
      "cell_type": "markdown",
      "source": [
        "### Allow Duplicates\n",
        "Since lists are indexed, lists can have items with the same value:"
      ],
      "metadata": {
        "id": "wGw7bgceEz0s"
      }
    },
    {
      "cell_type": "code",
      "source": [
        "#Lists allow duplicate values:\n",
        "\n",
        "thislist = [\"apple\", \"banana\", \"cherry\", \"apple\", \"cherry\"]\n",
        "print(thislist)"
      ],
      "metadata": {
        "colab": {
          "base_uri": "https://localhost:8080/"
        },
        "id": "NGKzw4MPBvyh",
        "outputId": "2e88c2df-a1c0-4421-c7fb-4c53df484c18"
      },
      "execution_count": null,
      "outputs": [
        {
          "output_type": "stream",
          "name": "stdout",
          "text": [
            "['apple', 'banana', 'cherry', 'apple', 'cherry']\n"
          ]
        }
      ]
    },
    {
      "cell_type": "markdown",
      "source": [
        "### List Length\n",
        "To determine how many items a list has, use the `len()` function:"
      ],
      "metadata": {
        "id": "HurvV-wtE-GL"
      }
    },
    {
      "cell_type": "code",
      "source": [
        "# Print the number of items in the list:\n",
        "\n",
        "thislist = [\"apple\", \"banana\", \"cherry\"]\n",
        "print(len(thislist))"
      ],
      "metadata": {
        "colab": {
          "base_uri": "https://localhost:8080/"
        },
        "id": "sd2LRQACE7SO",
        "outputId": "273fe484-fae3-44a7-f2e5-f1cd3eaa6494"
      },
      "execution_count": null,
      "outputs": [
        {
          "output_type": "stream",
          "name": "stdout",
          "text": [
            "3\n"
          ]
        }
      ]
    },
    {
      "cell_type": "markdown",
      "source": [
        "### List Items - Data Types\n",
        "List items can be of any data type:"
      ],
      "metadata": {
        "id": "ml-BKxekFJzx"
      }
    },
    {
      "cell_type": "code",
      "source": [
        "#String, int and boolean data types:\n",
        "\n",
        "list1 = [\"apple\", \"banana\", \"cherry\"]\n",
        "list2 = [1, 5, 7, 9, 3]\n",
        "list3 = [True, False, False]"
      ],
      "metadata": {
        "id": "J63yYnRQFGGM"
      },
      "execution_count": null,
      "outputs": []
    },
    {
      "cell_type": "code",
      "source": [
        "# A list can contain different data types:\n",
        "\n",
        "list1 = [\"abc\", 34, True, 40, \"male\"]"
      ],
      "metadata": {
        "id": "0YQxE1jsFRll"
      },
      "execution_count": null,
      "outputs": []
    },
    {
      "cell_type": "markdown",
      "source": [
        "### type()\n",
        "From Python's perspective, lists are defined as objects with the data type 'list':\n",
        "\n",
        "\n",
        "\n",
        "```\n",
        "<class 'list'>\n",
        "```\n",
        "\n"
      ],
      "metadata": {
        "id": "twcCkWH_FX2w"
      }
    },
    {
      "cell_type": "code",
      "source": [
        "# What is the data type of a list?"
      ],
      "metadata": {
        "id": "gBYnlZnzFnWQ"
      },
      "execution_count": null,
      "outputs": []
    },
    {
      "cell_type": "code",
      "source": [
        "mylist = [\"apple\", \"banana\", \"cherry\"]\n",
        "print(type(mylist))"
      ],
      "metadata": {
        "colab": {
          "base_uri": "https://localhost:8080/"
        },
        "id": "pcJSE9oYFVyZ",
        "outputId": "77934ca4-c641-493f-eda1-28a12cea7545"
      },
      "execution_count": null,
      "outputs": [
        {
          "output_type": "stream",
          "name": "stdout",
          "text": [
            "<class 'list'>\n"
          ]
        }
      ]
    },
    {
      "cell_type": "markdown",
      "source": [
        "### The list() Constructor\n",
        "It is also possible to use the `list()` constructor when creating a new list."
      ],
      "metadata": {
        "id": "5aWO0gj6Fqry"
      }
    },
    {
      "cell_type": "code",
      "source": [
        "# Using the list() constructor to make a List:\n",
        "\n",
        "thislist = list((\"apple\", \"banana\", \"cherry\")) # note the double round-brackets\n",
        "print(thislist)"
      ],
      "metadata": {
        "colab": {
          "base_uri": "https://localhost:8080/"
        },
        "id": "dYOKDT82FkLo",
        "outputId": "ee1eb82b-35a0-4b43-fd65-46345553adab"
      },
      "execution_count": null,
      "outputs": [
        {
          "output_type": "stream",
          "name": "stdout",
          "text": [
            "['apple', 'banana', 'cherry']\n"
          ]
        }
      ]
    },
    {
      "cell_type": "markdown",
      "source": [
        "### Python Collections (Arrays)\n",
        "There are four collection data types in the Python programming language:\n",
        "\n",
        "* **List** is a collection which is ordered and changeable. Allows duplicate members.\n",
        "* **Tuple** is a collection which is ordered and unchangeable. Allows duplicate members.\n",
        "* **Set** is a collection which is unordered, unchangeable*, and unindexed. No duplicate members.\n",
        "* **Dictionary** is a collection which is ordered** and changeable. No duplicate members."
      ],
      "metadata": {
        "id": "LzmcW4_mF2JA"
      }
    },
    {
      "cell_type": "markdown",
      "source": [
        "When choosing a collection type, it is useful to understand the properties of that type. Choosing the right type for a particular data set could mean retention of meaning, and, it could mean an increase in efficiency or security."
      ],
      "metadata": {
        "id": "FwFexzSKGFgv"
      }
    },
    {
      "cell_type": "markdown",
      "source": [
        "## Access Items\n",
        "\n",
        "List items are indexed and you can access them by referring to the index number:"
      ],
      "metadata": {
        "id": "sV3XG9fCGGP3"
      }
    },
    {
      "cell_type": "code",
      "source": [
        "#Print the second item of the list:\n",
        "\n",
        "thislist = [\"apple\", \"banana\", \"cherry\"]\n",
        "print(thislist[1])"
      ],
      "metadata": {
        "colab": {
          "base_uri": "https://localhost:8080/"
        },
        "id": "5_O2J_i-Fx5G",
        "outputId": "6ee0de8b-1ed8-46b4-9245-2162ab503167"
      },
      "execution_count": null,
      "outputs": [
        {
          "output_type": "stream",
          "name": "stdout",
          "text": [
            "banana\n"
          ]
        }
      ]
    },
    {
      "cell_type": "code",
      "source": [
        "# The first item has index 0."
      ],
      "metadata": {
        "id": "HkSwsumuGSb5"
      },
      "execution_count": null,
      "outputs": []
    },
    {
      "cell_type": "markdown",
      "source": [
        "### Negative Indexing\n",
        "Negative indexing means start from the end\n",
        "\n",
        "`-1` refers to the last item, `-2` refers to the second last item etc."
      ],
      "metadata": {
        "id": "IGt9t4OtGoOO"
      }
    },
    {
      "cell_type": "code",
      "source": [
        "#Print the last item of the list:\n",
        "\n",
        "thislist = [\"apple\", \"banana\", \"cherry\"]\n",
        "print(thislist[-1])"
      ],
      "metadata": {
        "colab": {
          "base_uri": "https://localhost:8080/"
        },
        "id": "zTbbupakGmM5",
        "outputId": "6ad80689-0048-46d4-e982-9dd8ad8a774f"
      },
      "execution_count": null,
      "outputs": [
        {
          "output_type": "stream",
          "name": "stdout",
          "text": [
            "cherry\n"
          ]
        }
      ]
    },
    {
      "cell_type": "markdown",
      "source": [
        "### Range of Indexes\n",
        "You can specify a range of indexes by specifying where to start and where to end the range.\n",
        "\n",
        "When specifying a range, the return value will be a new list with the specified items."
      ],
      "metadata": {
        "id": "fvl5hyDgGx8q"
      }
    },
    {
      "cell_type": "code",
      "source": [
        "#Return the third, fourth, and fifth item:\n",
        "\n",
        "thislist = [\"apple\", \"banana\", \"cherry\", \"orange\", \"kiwi\", \"melon\", \"mango\"]\n",
        "print(thislist[2:5])\n",
        "#Note: The search will start at index 2 (included) and end at index 5 (not included).\n",
        "#Remember that the first item has index 0."
      ],
      "metadata": {
        "colab": {
          "base_uri": "https://localhost:8080/"
        },
        "id": "IblGbJpOGvyo",
        "outputId": "857154e3-263a-4be7-90ee-e1b3c26ff2f9"
      },
      "execution_count": null,
      "outputs": [
        {
          "output_type": "stream",
          "name": "stdout",
          "text": [
            "['cherry', 'orange', 'kiwi']\n"
          ]
        }
      ]
    },
    {
      "cell_type": "markdown",
      "source": [
        "By leaving out the start value, the range will start at the first item:"
      ],
      "metadata": {
        "id": "7maPG2XSH9DZ"
      }
    },
    {
      "cell_type": "code",
      "source": [
        "#This example returns the items from the beginning to, but NOT including, \"kiwi\":\n",
        "\n",
        "thislist = [\"apple\", \"banana\", \"cherry\", \"orange\", \"kiwi\", \"melon\", \"mango\"]\n",
        "print(thislist[:4])"
      ],
      "metadata": {
        "colab": {
          "base_uri": "https://localhost:8080/"
        },
        "id": "gwUqWD-OG1yo",
        "outputId": "9bf4df08-f222-4078-b997-f4f60fa10a8f"
      },
      "execution_count": null,
      "outputs": [
        {
          "output_type": "stream",
          "name": "stdout",
          "text": [
            "['apple', 'banana', 'cherry', 'orange']\n"
          ]
        }
      ]
    },
    {
      "cell_type": "markdown",
      "source": [
        "By leaving out the end value, the range will go on to the end of the list:"
      ],
      "metadata": {
        "id": "kZ_l5sRPICZ9"
      }
    },
    {
      "cell_type": "code",
      "source": [
        "#This example returns the items from \"cherry\" to the end:\n",
        "\n",
        "thislist = [\"apple\", \"banana\", \"cherry\", \"orange\", \"kiwi\", \"melon\", \"mango\"]\n",
        "print(thislist[2:])"
      ],
      "metadata": {
        "colab": {
          "base_uri": "https://localhost:8080/"
        },
        "id": "Nk8YqLPUIAlP",
        "outputId": "fc202647-ac0b-40c1-dfe0-2d25a64cbc76"
      },
      "execution_count": null,
      "outputs": [
        {
          "output_type": "stream",
          "name": "stdout",
          "text": [
            "['cherry', 'orange', 'kiwi', 'melon', 'mango']\n"
          ]
        }
      ]
    },
    {
      "cell_type": "markdown",
      "source": [
        "### Range of Negative Indexes\n",
        "Specify negative indexes if you want to start the search from the end of the list:"
      ],
      "metadata": {
        "id": "LXTa8hcjIv33"
      }
    },
    {
      "cell_type": "code",
      "source": [
        "#This example returns the items from \"orange\" (-4) to, but NOT including \"mango\" (-1):\n",
        "\n",
        "thislist = [\"apple\", \"banana\", \"cherry\", \"orange\", \"kiwi\", \"melon\", \"mango\"]\n",
        "print(thislist[-4:-1])"
      ],
      "metadata": {
        "colab": {
          "base_uri": "https://localhost:8080/"
        },
        "id": "j4TlbGFrIsUf",
        "outputId": "da11821f-066e-4b0c-9959-803f48a27032"
      },
      "execution_count": null,
      "outputs": [
        {
          "output_type": "stream",
          "name": "stdout",
          "text": [
            "['orange', 'kiwi', 'melon']\n"
          ]
        }
      ]
    },
    {
      "cell_type": "markdown",
      "source": [
        "### Check if Item Exists\n",
        "To determine if a specified item is present in a list use the `in` keyword:"
      ],
      "metadata": {
        "id": "xuiyMa0OI3nG"
      }
    },
    {
      "cell_type": "code",
      "source": [
        "# Check if \"apple\" is present in the list:\n",
        "\n",
        "thislist = [\"apple\", \"banana\", \"cherry\"]\n",
        "if \"apple\" in thislist:\n",
        "  print(\"Yes, 'apple' is in the fruits list\")"
      ],
      "metadata": {
        "colab": {
          "base_uri": "https://localhost:8080/"
        },
        "id": "QSWqS-fmI0wu",
        "outputId": "652fddeb-4ec8-40f2-d663-ecbd457e0a1b"
      },
      "execution_count": null,
      "outputs": [
        {
          "output_type": "stream",
          "name": "stdout",
          "text": [
            "Yes, 'apple' is in the fruits list\n"
          ]
        }
      ]
    },
    {
      "cell_type": "markdown",
      "source": [
        "## Change Item Value\n",
        "\n",
        "To change the value of a specific item, refer to the index number:"
      ],
      "metadata": {
        "id": "beaz76jsJBWn"
      }
    },
    {
      "cell_type": "code",
      "source": [
        "#Change the second item:\n",
        "\n",
        "thislist = [\"apple\", \"banana\", \"cherry\"]\n",
        "thislist[1] = \"blackcurrant\"\n",
        "print(thislist)"
      ],
      "metadata": {
        "colab": {
          "base_uri": "https://localhost:8080/"
        },
        "id": "VQBxGuyTI9OP",
        "outputId": "0e1221d6-cf8c-4ef8-f141-f66f9a107b11"
      },
      "execution_count": null,
      "outputs": [
        {
          "output_type": "stream",
          "name": "stdout",
          "text": [
            "['apple', 'blackcurrant', 'cherry']\n"
          ]
        }
      ]
    },
    {
      "cell_type": "markdown",
      "source": [
        "### Change a Range of Item Values\n",
        "To change the value of items within a specific range, define a list with the new values, and refer to the range of index numbers where you want to insert the new values:\n"
      ],
      "metadata": {
        "id": "TmSgityUJape"
      }
    },
    {
      "cell_type": "code",
      "source": [
        "#Change the values \"banana\" and \"cherry\" with the values \"blackcurrant\" and \"watermelon\":\n",
        "\n",
        "thislist = [\"apple\", \"banana\", \"cherry\", \"orange\", \"kiwi\", \"mango\"]\n",
        "thislist[1:3] = [\"blackcurrant\", \"watermelon\"]\n",
        "print(thislist)"
      ],
      "metadata": {
        "colab": {
          "base_uri": "https://localhost:8080/"
        },
        "id": "1yCP8ch7JKmN",
        "outputId": "5b4b3d57-ca80-453d-eade-afff112d7853"
      },
      "execution_count": null,
      "outputs": [
        {
          "output_type": "stream",
          "name": "stdout",
          "text": [
            "['apple', 'blackcurrant', 'watermelon', 'orange', 'kiwi', 'mango']\n"
          ]
        }
      ]
    },
    {
      "cell_type": "markdown",
      "source": [
        "If you insert more items than you replace, the new items will be inserted where you specified, and the remaining items will move accordingly:"
      ],
      "metadata": {
        "id": "ivSDGJnCJkg1"
      }
    },
    {
      "cell_type": "code",
      "source": [
        "#Change the second value by replacing it with two new values:\n",
        "\n",
        "thislist = [\"apple\", \"banana\", \"cherry\"]\n",
        "thislist[1:2] = [\"blackcurrant\", \"watermelon\"]\n",
        "print(thislist)\n",
        "#The length of the list will change when the number of items inserted does not match the number of items replaced."
      ],
      "metadata": {
        "colab": {
          "base_uri": "https://localhost:8080/"
        },
        "id": "ibXfa-Y2JidP",
        "outputId": "414adcc5-8e08-447a-d26e-4090a9e61bd9"
      },
      "execution_count": null,
      "outputs": [
        {
          "output_type": "stream",
          "name": "stdout",
          "text": [
            "['apple', 'blackcurrant', 'watermelon', 'cherry']\n"
          ]
        }
      ]
    },
    {
      "cell_type": "markdown",
      "source": [
        "If you insert less items than you replace, the new items will be inserted where you specified, and the remaining items will move accordingly:"
      ],
      "metadata": {
        "id": "O6aBjUUqJvq8"
      }
    },
    {
      "cell_type": "code",
      "source": [
        "#Change the second and third value by replacing it with one value:\n",
        "\n",
        "thislist = [\"apple\", \"banana\", \"cherry\"]\n",
        "thislist[1:3] = [\"watermelon\"]\n",
        "print(thislist)"
      ],
      "metadata": {
        "colab": {
          "base_uri": "https://localhost:8080/"
        },
        "id": "jN87tSUlJoI9",
        "outputId": "1a75c56a-1505-48ef-e13e-afa1371b846e"
      },
      "execution_count": null,
      "outputs": [
        {
          "output_type": "stream",
          "name": "stdout",
          "text": [
            "['apple', 'watermelon']\n"
          ]
        }
      ]
    },
    {
      "cell_type": "markdown",
      "source": [
        "### Insert Items\n",
        "To insert a new list item, without replacing any of the existing values, we can use the `insert()` method.\n",
        "\n",
        "The `insert()` method inserts an item at the specified index:"
      ],
      "metadata": {
        "id": "Fzy7uL9VJ4uU"
      }
    },
    {
      "cell_type": "code",
      "source": [
        "# Insert \"watermelon\" as the third item:\n",
        "\n",
        "thislist = [\"apple\", \"banana\", \"cherry\"]\n",
        "thislist.insert(2, \"watermelon\")\n",
        "print(thislist)"
      ],
      "metadata": {
        "colab": {
          "base_uri": "https://localhost:8080/"
        },
        "id": "gFpOJFk7J0CH",
        "outputId": "75da70d3-8d2f-40e3-ed31-847c958f3378"
      },
      "execution_count": null,
      "outputs": [
        {
          "output_type": "stream",
          "name": "stdout",
          "text": [
            "['apple', 'banana', 'watermelon', 'cherry']\n"
          ]
        }
      ]
    },
    {
      "cell_type": "markdown",
      "source": [
        "## Add List Items\n",
        "\n",
        "### Append Items\n",
        "\n",
        "To add an item to the end of the list, use the append() method:\n",
        "\n"
      ],
      "metadata": {
        "id": "fcaMlQQ2KGSm"
      }
    },
    {
      "cell_type": "code",
      "source": [
        "#Using the append() method to append an item:\n",
        "\n",
        "thislist = [\"apple\", \"banana\", \"cherry\"]\n",
        "thislist.append(\"orange\")\n",
        "print(thislist)"
      ],
      "metadata": {
        "colab": {
          "base_uri": "https://localhost:8080/"
        },
        "id": "cSFeBxHJKCW2",
        "outputId": "09d56aed-a9ba-4993-deef-181bc50aa0d8"
      },
      "execution_count": null,
      "outputs": [
        {
          "output_type": "stream",
          "name": "stdout",
          "text": [
            "['apple', 'banana', 'cherry', 'orange']\n"
          ]
        }
      ]
    },
    {
      "cell_type": "markdown",
      "source": [
        "### Insert Items\n",
        "To insert a list item at a specified index, use the `insert()` method.\n",
        "\n",
        "The `insert()` method inserts an item at the specified index:"
      ],
      "metadata": {
        "id": "GnU5XofrKQQL"
      }
    },
    {
      "cell_type": "code",
      "source": [
        "#Insert an item as the second position:\n",
        "\n",
        "thislist = [\"apple\", \"banana\", \"cherry\"]\n",
        "thislist.insert(1, \"orange\")\n",
        "print(thislist)\n",
        "# Note: As a result of the examples above, the lists will now contain 4 items."
      ],
      "metadata": {
        "colab": {
          "base_uri": "https://localhost:8080/"
        },
        "id": "uX7No43BKOSZ",
        "outputId": "3d028da5-5f03-4933-c212-2acc677de9f2"
      },
      "execution_count": null,
      "outputs": [
        {
          "output_type": "stream",
          "name": "stdout",
          "text": [
            "['apple', 'orange', 'banana', 'cherry']\n"
          ]
        }
      ]
    },
    {
      "cell_type": "markdown",
      "source": [
        "### Extend List\n",
        "To append elements from another list to the current list, use the `extend()` method."
      ],
      "metadata": {
        "id": "NspXqiHOKihM"
      }
    },
    {
      "cell_type": "code",
      "source": [
        "#Add the elements of tropical to thislist:\n",
        "\n",
        "thislist = [\"apple\", \"banana\", \"cherry\"]\n",
        "tropical = [\"mango\", \"pineapple\", \"papaya\"]\n",
        "thislist.extend(tropical)\n",
        "print(thislist)"
      ],
      "metadata": {
        "colab": {
          "base_uri": "https://localhost:8080/"
        },
        "id": "sKUEZTnKKVOy",
        "outputId": "e7aa0567-dfbd-444c-ad53-84c6402917ac"
      },
      "execution_count": null,
      "outputs": [
        {
          "output_type": "stream",
          "name": "stdout",
          "text": [
            "['apple', 'banana', 'cherry', 'mango', 'pineapple', 'papaya']\n"
          ]
        }
      ]
    },
    {
      "cell_type": "markdown",
      "source": [
        "The elements will be added to the end of the list."
      ],
      "metadata": {
        "id": "Zy6fTfgkKrPz"
      }
    },
    {
      "cell_type": "markdown",
      "source": [
        "### Add Any Iterable\n",
        "The `extend()` method does not have to append lists, you can add any iterable object (tuples, sets, dictionaries etc.)."
      ],
      "metadata": {
        "id": "cENBkq4IKsQC"
      }
    },
    {
      "cell_type": "code",
      "source": [
        "#Add elements of a tuple to a list:\n",
        "\n",
        "thislist = [\"apple\", \"banana\", \"cherry\"]\n",
        "thistuple = (\"kiwi\", \"orange\")\n",
        "thislist.extend(thistuple)\n",
        "print(thislist)"
      ],
      "metadata": {
        "colab": {
          "base_uri": "https://localhost:8080/"
        },
        "id": "pSuPmnMPKoey",
        "outputId": "e0cb8b3b-6d2f-40b9-b846-dbec71235f89"
      },
      "execution_count": null,
      "outputs": [
        {
          "output_type": "stream",
          "name": "stdout",
          "text": [
            "['apple', 'banana', 'cherry', 'kiwi', 'orange']\n"
          ]
        }
      ]
    },
    {
      "cell_type": "markdown",
      "source": [
        "## Remove List Items\n",
        "\n",
        "### Remove Specified Item\n",
        "The `remove()` method removes the specified item."
      ],
      "metadata": {
        "id": "geo7X4E1K5Xm"
      }
    },
    {
      "cell_type": "code",
      "source": [
        "#Remove \"banana\":\n",
        "\n",
        "thislist = [\"apple\", \"banana\", \"cherry\"]\n",
        "thislist.remove(\"banana\")\n",
        "print(thislist)"
      ],
      "metadata": {
        "colab": {
          "base_uri": "https://localhost:8080/"
        },
        "id": "1c4tWdQMK2KY",
        "outputId": "8bd1b176-fdba-4a13-f51a-a42d0face331"
      },
      "execution_count": null,
      "outputs": [
        {
          "output_type": "stream",
          "name": "stdout",
          "text": [
            "['apple', 'cherry']\n"
          ]
        }
      ]
    },
    {
      "cell_type": "markdown",
      "source": [
        "### Remove Specified Index\n",
        "The `pop()` method removes the specified index.\n",
        "\n"
      ],
      "metadata": {
        "id": "0INcMPI1LCYJ"
      }
    },
    {
      "cell_type": "code",
      "source": [
        "# Remove the second item:\n",
        "\n",
        "thislist = [\"apple\", \"banana\", \"cherry\"]\n",
        "thislist.pop(1)\n",
        "print(thislist)"
      ],
      "metadata": {
        "colab": {
          "base_uri": "https://localhost:8080/"
        },
        "id": "FR-wq5vfK_0u",
        "outputId": "61137949-1898-4a88-c556-30e78bec77c1"
      },
      "execution_count": null,
      "outputs": [
        {
          "output_type": "stream",
          "name": "stdout",
          "text": [
            "['apple', 'cherry']\n"
          ]
        }
      ]
    },
    {
      "cell_type": "markdown",
      "source": [
        "If you do not specify the index, the` pop()` method removes the last item.\n",
        "\n"
      ],
      "metadata": {
        "id": "-LyzcKDKLLlg"
      }
    },
    {
      "cell_type": "code",
      "source": [
        "# Remove the last item:\n",
        "\n",
        "thislist = [\"apple\", \"banana\", \"cherry\"]\n",
        "thislist.pop()\n",
        "print(thislist)"
      ],
      "metadata": {
        "colab": {
          "base_uri": "https://localhost:8080/"
        },
        "id": "K_13YPSULKBw",
        "outputId": "6475183a-7484-4e68-d81c-96d7169ccdd9"
      },
      "execution_count": null,
      "outputs": [
        {
          "output_type": "stream",
          "name": "stdout",
          "text": [
            "['apple', 'banana']\n"
          ]
        }
      ]
    },
    {
      "cell_type": "markdown",
      "source": [
        "The `del` keyword also removes the specified index:"
      ],
      "metadata": {
        "id": "auCoeFyHLWZo"
      }
    },
    {
      "cell_type": "code",
      "source": [
        "# Remove the first item:\n",
        "\n",
        "thislist = [\"apple\", \"banana\", \"cherry\"]\n",
        "del thislist[0]\n",
        "print(thislist)"
      ],
      "metadata": {
        "colab": {
          "base_uri": "https://localhost:8080/"
        },
        "id": "A4d7HjrTLRC_",
        "outputId": "56391019-20aa-4820-8d6a-c09097a9d4d0"
      },
      "execution_count": null,
      "outputs": [
        {
          "output_type": "stream",
          "name": "stdout",
          "text": [
            "['banana', 'cherry']\n"
          ]
        }
      ]
    },
    {
      "cell_type": "markdown",
      "source": [
        "The `del` keyword can also delete the list completely.\n",
        "\n"
      ],
      "metadata": {
        "id": "Tj8u4g-HLdJy"
      }
    },
    {
      "cell_type": "code",
      "source": [
        "#Delete the entire list:\n",
        "\n",
        "thislist = [\"apple\", \"banana\", \"cherry\"]\n",
        "del thislist"
      ],
      "metadata": {
        "id": "fmgQAYJLLaOR"
      },
      "execution_count": null,
      "outputs": []
    },
    {
      "cell_type": "markdown",
      "source": [
        "### Clear the List\n",
        "The `clear()` method empties the list.\n",
        "\n",
        "The list still remains, but it has no content."
      ],
      "metadata": {
        "id": "wnJJ0VAJLkPH"
      }
    },
    {
      "cell_type": "code",
      "source": [
        "#Clear the list content:\n",
        "\n",
        "thislist = [\"apple\", \"banana\", \"cherry\"]\n",
        "thislist.clear()\n",
        "print(thislist)"
      ],
      "metadata": {
        "colab": {
          "base_uri": "https://localhost:8080/"
        },
        "id": "onHVXNwRLiHv",
        "outputId": "f5d85fd9-f1e6-430d-ce89-7d8cc2068729"
      },
      "execution_count": null,
      "outputs": [
        {
          "output_type": "stream",
          "name": "stdout",
          "text": [
            "[]\n"
          ]
        }
      ]
    },
    {
      "cell_type": "markdown",
      "source": [
        "## Loop Through a List\n",
        "You can loop through the list items by using a `for` loop:"
      ],
      "metadata": {
        "id": "jc4sKCXuLwT3"
      }
    },
    {
      "cell_type": "code",
      "source": [
        "# Print all items in the list, one by one:\n",
        "\n",
        "thislist = [\"apple\", \"banana\", \"cherry\"]\n",
        "for x in thislist:\n",
        "  print(x)"
      ],
      "metadata": {
        "colab": {
          "base_uri": "https://localhost:8080/"
        },
        "id": "Q5ywX-JMLqCb",
        "outputId": "4130de45-aa34-4e2e-f8ec-84e2736d81e6"
      },
      "execution_count": null,
      "outputs": [
        {
          "output_type": "stream",
          "name": "stdout",
          "text": [
            "apple\n",
            "banana\n",
            "cherry\n"
          ]
        }
      ]
    },
    {
      "cell_type": "markdown",
      "source": [
        "### Loop Through the Index Numbers\n",
        "You can also loop through the list items by referring to their index number.\n",
        "\n",
        "Use the `range()` and `len()` functions to create a suitable iterable.\n",
        "\n"
      ],
      "metadata": {
        "id": "ixVfSnBrMEDm"
      }
    },
    {
      "cell_type": "code",
      "source": [
        "# Print all items by referring to their index number:\n",
        "\n",
        "thislist = [\"apple\", \"banana\", \"cherry\"]\n",
        "for i in range(len(thislist)):\n",
        "  print(thislist[i])"
      ],
      "metadata": {
        "colab": {
          "base_uri": "https://localhost:8080/"
        },
        "id": "rIITgNb6MAuJ",
        "outputId": "f9e1859d-5c22-4ebf-c543-54486810f43c"
      },
      "execution_count": null,
      "outputs": [
        {
          "output_type": "stream",
          "name": "stdout",
          "text": [
            "apple\n",
            "banana\n",
            "cherry\n"
          ]
        }
      ]
    },
    {
      "cell_type": "markdown",
      "source": [
        "The iterable created in the example above is `[0, 1, 2]`.\n",
        "\n"
      ],
      "metadata": {
        "id": "zMfcsX9jMNOu"
      }
    },
    {
      "cell_type": "markdown",
      "source": [
        "### Using a While Loop\n",
        "You can loop through the list items by using a `while` loop.\n",
        "\n",
        "Use the `len()` function to determine the length of the list, then start at 0 and loop your way through the list items by refering to their indexes.\n",
        "\n",
        "Remember to increase the index by 1 after each iteration."
      ],
      "metadata": {
        "id": "rJU2gCBhMySd"
      }
    },
    {
      "cell_type": "code",
      "source": [
        "# Print all items, using a while loop to go through all the index numbers\n",
        "\n",
        "thislist = [\"apple\", \"banana\", \"cherry\"]\n",
        "i = 0\n",
        "while i < len(thislist):\n",
        "  print(thislist[i])\n",
        "  i = i + 1"
      ],
      "metadata": {
        "colab": {
          "base_uri": "https://localhost:8080/"
        },
        "id": "0_3ohLReMMTl",
        "outputId": "78563519-2141-421a-a5e2-508323e52062"
      },
      "execution_count": null,
      "outputs": [
        {
          "output_type": "stream",
          "name": "stdout",
          "text": [
            "apple\n",
            "banana\n",
            "cherry\n"
          ]
        }
      ]
    },
    {
      "cell_type": "markdown",
      "source": [
        "### Looping Using List Comprehension\n",
        "List Comprehension offers the shortest syntax for looping through lists:"
      ],
      "metadata": {
        "id": "J-S29DUBM9xs"
      }
    },
    {
      "cell_type": "code",
      "source": [
        "# A short hand for loop that will print all items in a list:\n",
        "\n",
        "thislist = [\"apple\", \"banana\", \"cherry\"]\n",
        "[print(x) for x in thislist]"
      ],
      "metadata": {
        "colab": {
          "base_uri": "https://localhost:8080/"
        },
        "id": "MG7X1klWM7Vi",
        "outputId": "938337eb-f188-48e3-a31c-1ec6c0bc07fe"
      },
      "execution_count": null,
      "outputs": [
        {
          "output_type": "stream",
          "name": "stdout",
          "text": [
            "apple\n",
            "banana\n",
            "cherry\n"
          ]
        },
        {
          "output_type": "execute_result",
          "data": {
            "text/plain": [
              "[None, None, None]"
            ]
          },
          "metadata": {},
          "execution_count": 35
        }
      ]
    },
    {
      "cell_type": "markdown",
      "source": [
        "## List Comprehension\n",
        "List comprehension offers a shorter syntax when you want to create a new list based on the values of an existing list.\n",
        "\n",
        "Example:\n",
        "\n",
        "Based on a list of fruits, you want a new list, containing only the fruits with the letter \"a\" in the name.\n",
        "\n",
        "Without list comprehension you will have to write a `for` statement with a conditional test inside:\n",
        "\n"
      ],
      "metadata": {
        "id": "LJF-YqR5NGdz"
      }
    },
    {
      "cell_type": "code",
      "source": [
        "fruits = [\"apple\", \"banana\", \"cherry\", \"kiwi\", \"mango\"]\n",
        "newlist = []\n",
        "\n",
        "for x in fruits:\n",
        "  if \"a\" in x:\n",
        "    newlist.append(x)\n",
        "\n",
        "print(newlist)"
      ],
      "metadata": {
        "colab": {
          "base_uri": "https://localhost:8080/"
        },
        "id": "CZGLNal2NB4G",
        "outputId": "25a9406f-00f7-4db5-f9d1-80f78703b453"
      },
      "execution_count": null,
      "outputs": [
        {
          "output_type": "stream",
          "name": "stdout",
          "text": [
            "['apple', 'banana', 'mango']\n"
          ]
        }
      ]
    },
    {
      "cell_type": "markdown",
      "source": [
        "With list comprehension you can do all that with only one line of code:\n",
        "\n"
      ],
      "metadata": {
        "id": "B9ZFAj84NQgc"
      }
    },
    {
      "cell_type": "code",
      "source": [
        "fruits = [\"apple\", \"banana\", \"cherry\", \"kiwi\", \"mango\"]\n",
        "\n",
        "newlist = [x for x in fruits if \"a\" in x]\n",
        "\n",
        "print(newlist)"
      ],
      "metadata": {
        "colab": {
          "base_uri": "https://localhost:8080/"
        },
        "id": "EvW5bZofNO1J",
        "outputId": "1da1a6bc-44f5-492a-b186-c5ff1c0d1d0b"
      },
      "execution_count": null,
      "outputs": [
        {
          "output_type": "stream",
          "name": "stdout",
          "text": [
            "['apple', 'banana', 'mango']\n"
          ]
        }
      ]
    },
    {
      "cell_type": "markdown",
      "source": [
        "### The Syntax\n",
        "```\n",
        "newlist = [expression for item in iterable if condition == True]\n",
        "```\n",
        "The return value is a new list, leaving the old list unchanged."
      ],
      "metadata": {
        "id": "En0WWisMNTro"
      }
    },
    {
      "cell_type": "markdown",
      "source": [
        "### Condition\n",
        "The condition is like a filter that only accepts the items that valuate to `True`."
      ],
      "metadata": {
        "id": "6qwS4uHXNdkK"
      }
    },
    {
      "cell_type": "code",
      "source": [
        "#Only accept items that are not \"apple\":\n",
        "\n",
        "newlist = [x for x in fruits if x != \"apple\"]"
      ],
      "metadata": {
        "id": "RCO2griZNSB6"
      },
      "execution_count": null,
      "outputs": []
    },
    {
      "cell_type": "markdown",
      "source": [
        "The condition` if x != \"apple\" ` will return `True` for all elements other than \"apple\", making the new list contain all fruits except \"apple\".\n",
        "\n",
        "The condition is optional and can be omitted:"
      ],
      "metadata": {
        "id": "uWtJYaJlNkuS"
      }
    },
    {
      "cell_type": "code",
      "source": [
        "#With no if statement:\n",
        "\n",
        "newlist = [x for x in fruits]"
      ],
      "metadata": {
        "id": "5jr21JsQNiRF"
      },
      "execution_count": null,
      "outputs": []
    },
    {
      "cell_type": "markdown",
      "source": [
        "### Iterable\n",
        "The iterable can be any iterable object, like a list, tuple, set etc."
      ],
      "metadata": {
        "id": "BUpWGEeLNui1"
      }
    },
    {
      "cell_type": "code",
      "source": [
        "# You can use the range() function to create an iterable:\n",
        "\n",
        "newlist = [x for x in range(10)]"
      ],
      "metadata": {
        "id": "O0gyacdZNrHX"
      },
      "execution_count": null,
      "outputs": []
    },
    {
      "cell_type": "markdown",
      "source": [
        "Same example, but with a condition:"
      ],
      "metadata": {
        "id": "-PrMYH0TN0bx"
      }
    },
    {
      "cell_type": "code",
      "source": [
        "#Accept only numbers lower than 5:\n",
        "\n",
        "newlist = [x for x in range(10) if x < 5]"
      ],
      "metadata": {
        "id": "7a6VC8obNxPr"
      },
      "execution_count": null,
      "outputs": []
    },
    {
      "cell_type": "markdown",
      "source": [
        "## Sort Lists\n",
        "\n",
        "### Sort List Alphanumerically\n",
        "List objects have a `sort()` method that will sort the list alphanumerically, ascending, by default:"
      ],
      "metadata": {
        "id": "AbchP0IUOJ24"
      }
    },
    {
      "cell_type": "code",
      "source": [
        "#Sort the list alphabetically:\n",
        "\n",
        "thislist = [\"orange\", \"mango\", \"kiwi\", \"pineapple\", \"banana\"]\n",
        "thislist.sort()\n",
        "print(thislist)"
      ],
      "metadata": {
        "colab": {
          "base_uri": "https://localhost:8080/"
        },
        "id": "d4psP1zuN4xt",
        "outputId": "79589a4c-576a-44c0-d017-8497af8ccd82"
      },
      "execution_count": null,
      "outputs": [
        {
          "output_type": "stream",
          "name": "stdout",
          "text": [
            "['banana', 'kiwi', 'mango', 'orange', 'pineapple']\n"
          ]
        }
      ]
    },
    {
      "cell_type": "code",
      "source": [
        "#Sort the list numerically:\n",
        "\n",
        "thislist = [100, 50, 65, 82, 23]\n",
        "thislist.sort()\n",
        "print(thislist)"
      ],
      "metadata": {
        "colab": {
          "base_uri": "https://localhost:8080/"
        },
        "id": "MegqrLWbORsj",
        "outputId": "e47c148a-c621-4313-8dd5-d8e88f8373f4"
      },
      "execution_count": null,
      "outputs": [
        {
          "output_type": "stream",
          "name": "stdout",
          "text": [
            "[23, 50, 65, 82, 100]\n"
          ]
        }
      ]
    },
    {
      "cell_type": "markdown",
      "source": [
        "### Sort Descending\n",
        "To sort descending, use the keyword argument `reverse = True`:\n",
        "\n"
      ],
      "metadata": {
        "id": "qjYE3-ddOWmn"
      }
    },
    {
      "cell_type": "code",
      "source": [
        "# Sort the list descending:\n",
        "\n",
        "thislist = [\"orange\", \"mango\", \"kiwi\", \"pineapple\", \"banana\"]\n",
        "thislist.sort(reverse = True)\n",
        "print(thislist)"
      ],
      "metadata": {
        "colab": {
          "base_uri": "https://localhost:8080/"
        },
        "id": "qv6E42-OOULC",
        "outputId": "473ecc82-c98d-4d5a-eb8e-9b9fd63a916a"
      },
      "execution_count": null,
      "outputs": [
        {
          "output_type": "stream",
          "name": "stdout",
          "text": [
            "['pineapple', 'orange', 'mango', 'kiwi', 'banana']\n"
          ]
        }
      ]
    },
    {
      "cell_type": "code",
      "source": [
        "#Sort the list descending:\n",
        "\n",
        "thislist = [100, 50, 65, 82, 23]\n",
        "thislist.sort(reverse = True)\n",
        "print(thislist)"
      ],
      "metadata": {
        "colab": {
          "base_uri": "https://localhost:8080/"
        },
        "id": "rN-WGrpQOdBt",
        "outputId": "ef36a4cc-2a0a-44ac-9002-4b32b0c71523"
      },
      "execution_count": null,
      "outputs": [
        {
          "output_type": "stream",
          "name": "stdout",
          "text": [
            "[100, 82, 65, 50, 23]\n"
          ]
        }
      ]
    },
    {
      "cell_type": "markdown",
      "source": [
        "### Customize Sort Function\n",
        "You can also customize your own function by using the keyword argument `key = function`.\n",
        "\n",
        "The function will return a number that will be used to sort the list (the lowest number first):"
      ],
      "metadata": {
        "id": "KCF9f5xpOkAQ"
      }
    },
    {
      "cell_type": "code",
      "source": [
        "# Sort the list based on how close the number is to 50:\n",
        "\n",
        "def myfunc(n):\n",
        "  return abs(n - 50)\n",
        "\n",
        "thislist = [100, 50, 65, 82, 23]\n",
        "thislist.sort(key = myfunc)\n",
        "print(thislist)"
      ],
      "metadata": {
        "colab": {
          "base_uri": "https://localhost:8080/"
        },
        "id": "FrN1GDKKOftV",
        "outputId": "db0a94cb-11d1-4f12-bb2f-c93ad339ebb5"
      },
      "execution_count": null,
      "outputs": [
        {
          "output_type": "stream",
          "name": "stdout",
          "text": [
            "[50, 65, 23, 82, 100]\n"
          ]
        }
      ]
    },
    {
      "cell_type": "markdown",
      "source": [
        "### Case Insensitive Sort\n",
        "By default the `sort()` method is case sensitive, resulting in all capital letters being sorted before lower case letters:"
      ],
      "metadata": {
        "id": "4Pl4IF8kOrbf"
      }
    },
    {
      "cell_type": "code",
      "source": [
        "# Case sensitive sorting can give an unexpected result:\n",
        "\n",
        "thislist = [\"banana\", \"Orange\", \"Kiwi\", \"cherry\"]\n",
        "thislist.sort()\n",
        "print(thislist)"
      ],
      "metadata": {
        "colab": {
          "base_uri": "https://localhost:8080/"
        },
        "id": "s3fydwU3OpnJ",
        "outputId": "412ed670-94a3-423d-f7b2-bae570ecc17f"
      },
      "execution_count": null,
      "outputs": [
        {
          "output_type": "stream",
          "name": "stdout",
          "text": [
            "['Kiwi', 'Orange', 'banana', 'cherry']\n"
          ]
        }
      ]
    },
    {
      "cell_type": "markdown",
      "source": [
        "Luckily we can use built-in functions as key functions when sorting a list.\n",
        "\n",
        "So if you want a case-insensitive sort function, use str.lower as a key function:"
      ],
      "metadata": {
        "id": "Q_IWedj9OyGn"
      }
    },
    {
      "cell_type": "code",
      "source": [
        "#Perform a case-insensitive sort of the list:\n",
        "\n",
        "thislist = [\"banana\", \"Orange\", \"Kiwi\", \"cherry\"]\n",
        "thislist.sort(key = str.lower)\n",
        "print(thislist)"
      ],
      "metadata": {
        "colab": {
          "base_uri": "https://localhost:8080/"
        },
        "id": "sFheQMS9Ov_c",
        "outputId": "1d217f8f-8bc7-428c-c0d1-ce85cab51dac"
      },
      "execution_count": null,
      "outputs": [
        {
          "output_type": "stream",
          "name": "stdout",
          "text": [
            "['banana', 'cherry', 'Kiwi', 'Orange']\n"
          ]
        }
      ]
    },
    {
      "cell_type": "markdown",
      "source": [
        "### Reverse Order\n",
        "What if you want to reverse the order of a list, regardless of the alphabet?\n",
        "\n",
        "The `reverse()` method reverses the current sorting order of the elements."
      ],
      "metadata": {
        "id": "1WYzg0rPO2Hq"
      }
    },
    {
      "cell_type": "code",
      "source": [
        "#Reverse the order of the list items:\n",
        "\n",
        "thislist = [\"banana\", \"Orange\", \"Kiwi\", \"cherry\"]\n",
        "thislist.reverse()\n",
        "print(thislist)"
      ],
      "metadata": {
        "colab": {
          "base_uri": "https://localhost:8080/"
        },
        "id": "DlfQw-cXO0ZB",
        "outputId": "b1f7bfd9-f31b-42a4-8f7f-57478015fac5"
      },
      "execution_count": null,
      "outputs": [
        {
          "output_type": "stream",
          "name": "stdout",
          "text": [
            "['cherry', 'Kiwi', 'Orange', 'banana']\n"
          ]
        }
      ]
    },
    {
      "cell_type": "markdown",
      "source": [
        "## Copy a List\n",
        "\n",
        "You cannot copy a list simply by typing `list2 = list1`, because: `list2` will only be a reference to `list1`, and changes made in `list1` will automatically also be made in `list2`.\n",
        "\n",
        "There are ways to make a copy, one way is to use the built-in List method `copy()`."
      ],
      "metadata": {
        "id": "xQUwT0m7O-N3"
      }
    },
    {
      "cell_type": "code",
      "source": [
        "#Make a copy of a list with the copy() method:\n",
        "\n",
        "thislist = [\"apple\", \"banana\", \"cherry\"]\n",
        "mylist = thislist.copy()\n",
        "print(mylist)"
      ],
      "metadata": {
        "colab": {
          "base_uri": "https://localhost:8080/"
        },
        "id": "sZpcJNcPO6aB",
        "outputId": "85d1d7b4-c71b-46c9-e60e-71f25d109985"
      },
      "execution_count": null,
      "outputs": [
        {
          "output_type": "stream",
          "name": "stdout",
          "text": [
            "['apple', 'banana', 'cherry']\n"
          ]
        }
      ]
    },
    {
      "cell_type": "markdown",
      "source": [
        "Another way to make a copy is to use the built-in method `list().`"
      ],
      "metadata": {
        "id": "wsoeL6WXPN7u"
      }
    },
    {
      "cell_type": "code",
      "source": [
        "# Make a copy of a list with the list() method:\n",
        "\n",
        "thislist = [\"apple\", \"banana\", \"cherry\"]\n",
        "mylist = list(thislist)\n",
        "print(mylist)"
      ],
      "metadata": {
        "colab": {
          "base_uri": "https://localhost:8080/"
        },
        "id": "BsOtrhD6PKyb",
        "outputId": "986dc53c-a0b2-470a-9b11-f9d5312df75d"
      },
      "execution_count": null,
      "outputs": [
        {
          "output_type": "stream",
          "name": "stdout",
          "text": [
            "['apple', 'banana', 'cherry']\n"
          ]
        }
      ]
    },
    {
      "cell_type": "markdown",
      "source": [
        "## Join Lists\n",
        "### Join Two Lists\n",
        "There are several ways to join, or concatenate, two or more lists in Python.\n",
        "\n",
        "One of the easiest ways are by using the `+` operator.\n",
        "\n"
      ],
      "metadata": {
        "id": "GnVhTBBUPVM9"
      }
    },
    {
      "cell_type": "code",
      "source": [
        "# Join two list:\n",
        "\n",
        "list1 = [\"a\", \"b\", \"c\"]\n",
        "list2 = [1, 2, 3]\n",
        "\n",
        "list3 = list1 + list2\n",
        "print(list3)"
      ],
      "metadata": {
        "colab": {
          "base_uri": "https://localhost:8080/"
        },
        "id": "D8r-P_aePRca",
        "outputId": "ca4f3cae-ff69-44c3-9cd7-b28a260825e8"
      },
      "execution_count": null,
      "outputs": [
        {
          "output_type": "stream",
          "name": "stdout",
          "text": [
            "['a', 'b', 'c', 1, 2, 3]\n"
          ]
        }
      ]
    },
    {
      "cell_type": "markdown",
      "source": [
        "Another way to join two lists is by appending all the items from list2 into list1, one by one:\n",
        "\n"
      ],
      "metadata": {
        "id": "r3-dvkazPdim"
      }
    },
    {
      "cell_type": "code",
      "source": [
        "# Append list2 into list1:\n",
        "\n",
        "list1 = [\"a\", \"b\" , \"c\"]\n",
        "list2 = [1, 2, 3]\n",
        "\n",
        "for x in list2:\n",
        "  list1.append(x)\n",
        "\n",
        "print(list1)"
      ],
      "metadata": {
        "colab": {
          "base_uri": "https://localhost:8080/"
        },
        "id": "_4hJa3YhPb_S",
        "outputId": "9fb50d89-53b5-496d-f756-2620ceab7631"
      },
      "execution_count": null,
      "outputs": [
        {
          "output_type": "stream",
          "name": "stdout",
          "text": [
            "['a', 'b', 'c', 1, 2, 3]\n"
          ]
        }
      ]
    },
    {
      "cell_type": "markdown",
      "source": [
        "Or you can use the `extend()` method, which purpose is to add elements from one list to another list:\n",
        "\n"
      ],
      "metadata": {
        "id": "TICJtP4uPhjk"
      }
    },
    {
      "cell_type": "code",
      "source": [
        "# Use the extend() method to add list2 at the end of list1:\n",
        "\n",
        "list1 = [\"a\", \"b\" , \"c\"]\n",
        "list2 = [1, 2, 3]\n",
        "\n",
        "list1.extend(list2)\n",
        "print(list1)"
      ],
      "metadata": {
        "colab": {
          "base_uri": "https://localhost:8080/"
        },
        "id": "DdYYpOt5Pf0Y",
        "outputId": "0c33e3c4-e0e1-4f48-e88d-9a4a8d149a3e"
      },
      "execution_count": null,
      "outputs": [
        {
          "output_type": "stream",
          "name": "stdout",
          "text": [
            "['a', 'b', 'c', 1, 2, 3]\n"
          ]
        }
      ]
    }
  ]
}