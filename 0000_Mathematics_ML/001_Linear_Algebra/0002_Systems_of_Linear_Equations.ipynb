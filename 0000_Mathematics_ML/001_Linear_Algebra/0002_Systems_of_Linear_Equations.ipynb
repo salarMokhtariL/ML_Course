{
 "cells": [
  {
   "cell_type": "markdown",
   "metadata": {},
   "source": [
    "System of linear equatins play a central part of linear algebra. Many problems can be  formulated as systems of linear equations, and linear algebra gives use the tools for solving them."
   ]
  },
  {
   "cell_type": "markdown",
   "metadata": {},
   "source": [
    "####  $ \\mathcal{Example \\ \\ One } $\n",
    "\n",
    "A company produces products $ N_1,...,N_n$ for wich resources $ R_1,..., R_m$ are required. To produce a unit of product $N_j,a_ij$ units of resource $R_i$ are needed, where $i = 1, ..., m$ and $j = 1,...,n$"
   ]
  },
  {
   "cell_type": "markdown",
   "metadata": {},
   "source": []
  }
 ],
 "metadata": {
  "language_info": {
   "name": "python"
  },
  "orig_nbformat": 4
 },
 "nbformat": 4,
 "nbformat_minor": 2
}
