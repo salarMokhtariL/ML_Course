{
  "nbformat": 4,
  "nbformat_minor": 0,
  "metadata": {
    "colab": {
      "name": "0002_Systems_of_Linear_Equations.ipynb",
      "provenance": [],
      "authorship_tag": "ABX9TyPSkEqBV3Qu2Ezk42/UsTZF",
      "include_colab_link": true
    },
    "kernelspec": {
      "name": "python3",
      "display_name": "Python 3"
    },
    "language_info": {
      "name": "python"
    }
  },
  "cells": [
    {
      "cell_type": "markdown",
      "metadata": {
        "id": "view-in-github",
        "colab_type": "text"
      },
      "source": [
        "<a href=\"https://colab.research.google.com/github/salarMokhtariL/ML_Course/blob/main/0000_Mathematics_ML/001_Linear_Algebra/0002_Systems_of_Linear_Equations.ipynb\" target=\"_parent\"><img src=\"https://colab.research.google.com/assets/colab-badge.svg\" alt=\"Open In Colab\"/></a>"
      ]
    },
    {
      "cell_type": "markdown",
      "source": [
        "System of linear equatins play a central part of linear algebra. Many problems can be  formulated as systems of linear equations, and linear algebra gives use the tools for solving them."
      ],
      "metadata": {
        "id": "3vvrGGfE_EfO"
      }
    },
    {
      "cell_type": "markdown",
      "source": [
        "####  $ \\mathcal{Example \\_\\ One } $\n",
        "\n",
        "A company produces products $ N_1,...,N_n$ for which resources $ R_1,..., R_m$ are required. To produce a unit of product $N_j,a_ij$ units of resource $R_i$ are needed, where $i = 1, ..., m$ and $j = 1,...,n$\n",
        "\n",
        "The objective is to find an optimal production plan, i.e, a plan of many units $x_j$ of product $N_j$  should be produced if a total of $b_i$ units of resource of $R_i$ are available and (ideally) no resources are left over.\n",
        "\n",
        "if we  produce $x_1,...,x_2$ units of the corresponding products,we need a total of \n",
        "\n",
        "$ a_{i1}x_1 +... +a_{in}x_n$\n",
        "\n",
        "many units of resource $ R_i $ , An optimal production plan $(x_1,...,x_n) \\in R^n$, therefore, has to satisfy the following system of equations :\n",
        "\n",
        "\n",
        "$ a_{11}x_1+....+a_{1n}x_n = b_1$\n",
        "\n",
        "$\n",
        "\\cdot\n",
        "$\n",
        "\n",
        "$\n",
        "\\cdot\n",
        "$\n",
        "\n",
        "$\n",
        "\\cdot\n",
        "$\n",
        "\n",
        "$a_{m1}x_1+...+a_{mn}x_n=b_m$\n",
        "\n",
        "\n",
        "where $a_{ij} \\in R$ and $b_i \\in R$.\n",
        "\n",
        "\n",
        "Equation (Laste part) is the general form of a system of linear equations. and $ x_1,...,x_n $  are the unknows of this system. Every *n*-tuple $(x_1,...,x_n) \\in R^n $ that statisfies is a *solution* of the linear equation system."
      ],
      "metadata": {
        "id": "8YHxUG0h_FyJ"
      }
    },
    {
      "cell_type": "markdown",
      "source": [
        "####  $ \\mathcal{Example \\_\\ two } $\n",
        "\n",
        "\n",
        "The system of linear equations \n",
        "\n",
        "$x_1+x_2+\\ x_3 =\\ 3 \\qquad \\qquad\\ (1)$\n",
        "\n",
        "$ x_1-x_2+2x_3= 2 \\qquad\\qquad \\ (2)$\n",
        "\n",
        "$ 2x_1\\qquad  +3x_2 =1 \\qquad \\quad \\quad(3)$\n",
        "\n",
        "\n",
        "has *no solution*: Adding the first two equtions yields $2x_1+2x_3=5$ , wich contradicts  the third equation $(3)$\n",
        "\n",
        "Let us have look at the system of linear equations \n",
        "\n",
        "\n",
        "$x_1+x_2+x_3 =\\ 3 \\qquad \\qquad \\ (1)$\n",
        "\n",
        "$ x_1-x_2+2x_3= 2 \\qquad\\qquad (2)$\n",
        "\n",
        "$ \\qquad x_2 + 3x_2 = \\ 1 \\qquad \\quad \\quad(3)$\n",
        "\n",
        "\n",
        "\n",
        "From the first and third equation , it follows that $x_1 = 1 $.From $(1)+(2)$ , we get $2x_1+3x_3=5 $ i.e , $x_3 = 1$ , Form $(3)$, we then get that $x_2=1$ . Therefore , $(1, 1, 1)$ is the only possible and *unique solution* (verify that $(1, 1, 1)$ is a solution by plugging in).\n",
        "\n",
        "As a third example, we consider \n",
        "\n",
        "$x_1+x_2+\\ x_3 =\\ 3 \\qquad \\qquad\\ (1)$\n",
        "\n",
        "$ x_1-x_2+2x_3= 2 \\qquad\\qquad \\ (2)$\n",
        "\n",
        "$ 2x_1\\qquad  +3x_2 =5 \\qquad \\quad \\quad(3)$\n",
        "\n",
        "\n",
        "Since $ (1)+(2)=(3)$ , we can omit the equation (redundancy). From $(1)$ and $(2)$ , we get $ 2x_1 = 5  -3x_3 $ and $2x_2=1+x_3$.We define $x_3 = a \\in R$ as a free variable , such that  any triplet\n",
        "\n"
      ],
      "metadata": {
        "id": "RlauTiXfNNuW"
      }
    },
    {
      "cell_type": "code",
      "source": [
        ""
      ],
      "metadata": {
        "id": "z1pfnYkARrvJ"
      },
      "execution_count": null,
      "outputs": []
    }
  ]
}