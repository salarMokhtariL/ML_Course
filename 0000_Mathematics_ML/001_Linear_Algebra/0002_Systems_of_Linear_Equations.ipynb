{
 "cells": [
  {
   "cell_type": "markdown",
   "metadata": {},
   "source": [
    "System of linear equatins play a central part of linear algebra. Many problems can be  formulated as systems of linear equations, and linear algebra gives use the tools for solving them."
   ]
  },
  {
   "cell_type": "markdown",
   "metadata": {},
   "source": [
    "####  $ \\mathcal{Example \\ \\ One } $\n",
    "\n",
    "A company produces products $ N_1,...,N_n$ for which resources $ R_1,..., R_m$ are required. To produce a unit of product $N_j,a_ij$ units of resource $R_i$ are needed, where $i = 1, ..., m$ and $j = 1,...,n$\n",
    "\n",
    "The objective is to find an optimal production plan, i.e, a plan of many units $x_j$ of product $N_j$  should be produced if a total of $b_i$ units of resource of $R_i$ are available and (ideally) no resources are left over.\n",
    "\n",
    "if we  produce $x_1,...,x_2$ units of the corresponding "
   ]
  },
  {
   "cell_type": "markdown",
   "metadata": {},
   "source": []
  }
 ],
 "metadata": {
  "language_info": {
   "name": "python"
  },
  "orig_nbformat": 4
 },
 "nbformat": 4,
 "nbformat_minor": 2
}
