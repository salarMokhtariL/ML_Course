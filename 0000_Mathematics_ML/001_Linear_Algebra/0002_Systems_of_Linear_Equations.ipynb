{
 "cells": [
  {
   "cell_type": "markdown",
   "metadata": {},
   "source": [
    "System of linear equatins play a central part of linear algebra. Many problems can be  formulated as systems of linear equations, and linear algebra gives use the tools for solving them."
   ]
  },
  {
   "cell_type": "markdown",
   "metadata": {},
   "source": [
    "####  $ \\mathcal{Example \\_\\ One } $\n",
    "\n",
    "A company produces products $ N_1,...,N_n$ for which resources $ R_1,..., R_m$ are required. To produce a unit of product $N_j,a_ij$ units of resource $R_i$ are needed, where $i = 1, ..., m$ and $j = 1,...,n$\n",
    "\n",
    "The objective is to find an optimal production plan, i.e, a plan of many units $x_j$ of product $N_j$  should be produced if a total of $b_i$ units of resource of $R_i$ are available and (ideally) no resources are left over.\n",
    "\n",
    "if we  produce $x_1,...,x_2$ units of the corresponding products,we need a total of \n",
    "\n",
    "$ a_{i1}x_1 +... +a_{in}x_n$\n",
    "\n",
    "many units of resource $ R_i $ , An optimal production plan $(x_1,...,x_n) \\in R^n$, therefore, has to satisfy the following system of equations :\n",
    "\n",
    "\n",
    "$ a_{11}x_1+....+a_{1n}x_n = b_1$\n",
    "\n",
    "$\n",
    "\\cdot\n",
    "$\n",
    "\n",
    "$\n",
    "\\cdot\n",
    "$\n",
    "\n",
    "$\n",
    "\\cdot\n",
    "$\n",
    "\n",
    "$a_{m1}x_1+...+a_{mn}x_n=b_m$\n",
    "\n",
    "\n",
    "where $a_{ij} \\in R$ and $b_i \\in R$.\n",
    "\n",
    "\n",
    "Equation (Laste part) is the general form of a system of linear equations. and $ x_1,...,x_n $  are the unknows of this system. Every *n*-tuple $(x_1,...,x_n) \\in R^n $ that statisfies is a *solution* of the linear equation system."
   ]
  },
  {
   "cell_type": "markdown",
   "metadata": {},
   "source": []
  },
  {
   "cell_type": "markdown",
   "metadata": {},
   "source": []
  }
 ],
 "metadata": {
  "language_info": {
   "name": "python"
  },
  "orig_nbformat": 4
 },
 "nbformat": 4,
 "nbformat_minor": 2
}
