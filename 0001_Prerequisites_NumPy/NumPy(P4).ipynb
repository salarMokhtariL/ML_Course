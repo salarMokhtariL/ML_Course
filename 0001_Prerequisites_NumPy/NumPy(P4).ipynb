{
  "nbformat": 4,
  "nbformat_minor": 0,
  "metadata": {
    "colab": {
      "name": "Copy of Copy of NumPy(P4).ipynb",
      "provenance": [],
      "authorship_tag": "ABX9TyPanAsp4OQp3j8OnqvKc3PC",
      "include_colab_link": true
    },
    "kernelspec": {
      "name": "python3",
      "display_name": "Python 3"
    },
    "language_info": {
      "name": "python"
    }
  },
  "cells": [
    {
      "cell_type": "markdown",
      "metadata": {
        "id": "view-in-github",
        "colab_type": "text"
      },
      "source": [
        "<a href=\"https://colab.research.google.com/github/salarMokhtariL/ML_Course/blob/main/0001_Prerequisites_NumPy/NumPy(P4).ipynb\" target=\"_parent\"><img src=\"https://colab.research.google.com/assets/colab-badge.svg\" alt=\"Open In Colab\"/></a>"
      ]
    },
    {
      "cell_type": "markdown",
      "source": [
        "# How to convert a 1D array into a 2D array \n",
        "## (How to add a new axis to an array)\n",
        "\n",
        "\n",
        "\n",
        "\n",
        "```\n",
        "np.newaxis \n",
        "np.expand_dims\n",
        "```\n",
        "\n",
        "\n",
        "\n",
        "\n"
      ],
      "metadata": {
        "id": "xBuUeUzl436E"
      }
    },
    {
      "cell_type": "markdown",
      "source": [
        "You can use `np.newaxis`  and   `np.expand` to increase the dimension of your existing array.\n",
        " \n",
        "Using `np.newaxis` will increase the dimensions of your array by one dimension when used once.This means that a **1D** array will become a **2D** array, a **2D** array will become a **3D** array, and so on\n",
        "\n",
        "**Examples**"
      ],
      "metadata": {
        "id": "I1ayUbzs5dRJ"
      }
    },
    {
      "cell_type": "code",
      "source": [
        "import numpy as np"
      ],
      "metadata": {
        "id": "QSFTzYO87rib"
      },
      "execution_count": null,
      "outputs": []
    },
    {
      "cell_type": "code",
      "source": [
        "a = np.array([1, 2, 3, 4, 5, 6])\n",
        "a.shape"
      ],
      "metadata": {
        "colab": {
          "base_uri": "https://localhost:8080/"
        },
        "id": "2RtbMlZB7vxJ",
        "outputId": "ff7d9dbd-7b76-432c-85b6-a2cb7440fcb9"
      },
      "execution_count": null,
      "outputs": [
        {
          "output_type": "execute_result",
          "data": {
            "text/plain": [
              "(6,)"
            ]
          },
          "metadata": {},
          "execution_count": 2
        }
      ]
    },
    {
      "cell_type": "markdown",
      "source": [
        "You can use `np.newaxis` to add a new axis :"
      ],
      "metadata": {
        "id": "FWWZmOHs8lpf"
      }
    },
    {
      "cell_type": "code",
      "source": [
        "a2 = a[np.newaxis, :]\n",
        "a2.shape"
      ],
      "metadata": {
        "colab": {
          "base_uri": "https://localhost:8080/"
        },
        "id": "wkYaJW8e8kJH",
        "outputId": "80973192-ca93-4a7a-9480-3d1727eb3ca4"
      },
      "execution_count": null,
      "outputs": [
        {
          "output_type": "execute_result",
          "data": {
            "text/plain": [
              "(1, 6)"
            ]
          },
          "metadata": {},
          "execution_count": 3
        }
      ]
    },
    {
      "cell_type": "code",
      "source": [
        "a"
      ],
      "metadata": {
        "colab": {
          "base_uri": "https://localhost:8080/"
        },
        "id": "cGZweCv98z5v",
        "outputId": "87f18de1-4212-4c81-ebd6-c012d43333b5"
      },
      "execution_count": null,
      "outputs": [
        {
          "output_type": "execute_result",
          "data": {
            "text/plain": [
              "array([1, 2, 3, 4, 5, 6])"
            ]
          },
          "metadata": {},
          "execution_count": 4
        }
      ]
    },
    {
      "cell_type": "code",
      "source": [
        "a2"
      ],
      "metadata": {
        "colab": {
          "base_uri": "https://localhost:8080/"
        },
        "id": "o-SpnV_a82hZ",
        "outputId": "e282ed02-36b7-4ce6-9eaa-7d2df34036e7"
      },
      "execution_count": null,
      "outputs": [
        {
          "output_type": "execute_result",
          "data": {
            "text/plain": [
              "array([[1, 2, 3, 4, 5, 6]])"
            ]
          },
          "metadata": {},
          "execution_count": 5
        }
      ]
    },
    {
      "cell_type": "markdown",
      "source": [
        "You can explicitly convert a 1D array with either a row vector or using `np.newaxis` For example, you can convert a 1D array to a row vector by inserting an axis along the first dimension :"
      ],
      "metadata": {
        "id": "2vtEGFa_9L7R"
      }
    },
    {
      "cell_type": "code",
      "source": [
        "row_vector = a[np.newaxis, :]\n",
        "row_vector.shape"
      ],
      "metadata": {
        "colab": {
          "base_uri": "https://localhost:8080/"
        },
        "id": "UavN0-_683bX",
        "outputId": "797d3cd5-c4b7-4d7b-9193-e39762b1d3f6"
      },
      "execution_count": null,
      "outputs": [
        {
          "output_type": "execute_result",
          "data": {
            "text/plain": [
              "(1, 6)"
            ]
          },
          "metadata": {},
          "execution_count": 6
        }
      ]
    },
    {
      "cell_type": "markdown",
      "source": [
        "Or, for column vector, you can insert an axis along the second dimension"
      ],
      "metadata": {
        "id": "U3c1bxe8_XIc"
      }
    },
    {
      "cell_type": "code",
      "source": [
        "col_vector = a [:, np.newaxis]\n",
        "col_vector.shape"
      ],
      "metadata": {
        "colab": {
          "base_uri": "https://localhost:8080/"
        },
        "id": "09RDpko7-qzf",
        "outputId": "20311d06-fdc9-4fc9-d086-8e4d1fa65c66"
      },
      "execution_count": null,
      "outputs": [
        {
          "output_type": "execute_result",
          "data": {
            "text/plain": [
              "(6, 1)"
            ]
          },
          "metadata": {},
          "execution_count": 7
        }
      ]
    },
    {
      "cell_type": "markdown",
      "source": [
        "You can also expand an array by insterting a new axis at a specified position with `np.epand_dims`.\n",
        "\n",
        "\n",
        "Example :\n"
      ],
      "metadata": {
        "id": "BFdlN1Oemiz9"
      }
    },
    {
      "cell_type": "code",
      "source": [
        "a = np.array([1, 2, 3, 4, 5, 6])\n",
        "a.shape"
      ],
      "metadata": {
        "id": "e79dVD9l_y3i",
        "colab": {
          "base_uri": "https://localhost:8080/"
        },
        "outputId": "f3ab44e6-96fa-4fc6-8c56-d67d9dec25de"
      },
      "execution_count": null,
      "outputs": [
        {
          "output_type": "execute_result",
          "data": {
            "text/plain": [
              "(6,)"
            ]
          },
          "metadata": {},
          "execution_count": 8
        }
      ]
    },
    {
      "cell_type": "markdown",
      "source": [
        "You can use `np.expand_dims` to add an axis at index postion 1 with :"
      ],
      "metadata": {
        "id": "lWkDWLsSnW8P"
      }
    },
    {
      "cell_type": "code",
      "source": [
        "b = np.expand_dims(a, axis=1)\n",
        "b.shape"
      ],
      "metadata": {
        "colab": {
          "base_uri": "https://localhost:8080/"
        },
        "id": "anVZYp86nKNF",
        "outputId": "daf37469-a3d4-423c-cb2f-cd386563c25a"
      },
      "execution_count": null,
      "outputs": [
        {
          "output_type": "execute_result",
          "data": {
            "text/plain": [
              "(6, 1)"
            ]
          },
          "metadata": {},
          "execution_count": 9
        }
      ]
    },
    {
      "cell_type": "markdown",
      "source": [
        "You can use `np.expand_dims` to add an axis at index position 0 with :"
      ],
      "metadata": {
        "id": "oryboAqhnrr0"
      }
    },
    {
      "cell_type": "code",
      "source": [
        "b = np.expand_dims(a, axis=0)\n",
        "b.shape"
      ],
      "metadata": {
        "colab": {
          "base_uri": "https://localhost:8080/"
        },
        "id": "25Mmer4unq6X",
        "outputId": "e836534b-8ac5-43c8-8bcb-a11c1ec7e463"
      },
      "execution_count": null,
      "outputs": [
        {
          "output_type": "execute_result",
          "data": {
            "text/plain": [
              "(1, 6)"
            ]
          },
          "metadata": {},
          "execution_count": 10
        }
      ]
    },
    {
      "cell_type": "markdown",
      "source": [
        "# Indexing and slicing\n",
        "\n",
        "\n",
        "You can index and slicing NumPy array in the same ways you can slice Python lists."
      ],
      "metadata": {
        "id": "71At88zzoNJp"
      }
    },
    {
      "cell_type": "code",
      "source": [
        "data = np.array([1, 2, 3])"
      ],
      "metadata": {
        "id": "5iH08VdBoiGx"
      },
      "execution_count": null,
      "outputs": []
    },
    {
      "cell_type": "code",
      "source": [
        "data [1]"
      ],
      "metadata": {
        "colab": {
          "base_uri": "https://localhost:8080/"
        },
        "id": "b4sjtxe6osaY",
        "outputId": "aa2502b2-544f-483b-d1db-7e8ee07e0cd4"
      },
      "execution_count": null,
      "outputs": [
        {
          "output_type": "execute_result",
          "data": {
            "text/plain": [
              "2"
            ]
          },
          "metadata": {},
          "execution_count": 12
        }
      ]
    },
    {
      "cell_type": "code",
      "source": [
        "data[0:2]"
      ],
      "metadata": {
        "colab": {
          "base_uri": "https://localhost:8080/"
        },
        "id": "HlgX7MUdovt7",
        "outputId": "abcc4aaf-bf2a-4f5e-92e1-329d8f3cccca"
      },
      "execution_count": null,
      "outputs": [
        {
          "output_type": "execute_result",
          "data": {
            "text/plain": [
              "array([1, 2])"
            ]
          },
          "metadata": {},
          "execution_count": 13
        }
      ]
    },
    {
      "cell_type": "code",
      "source": [
        "data[1:]"
      ],
      "metadata": {
        "colab": {
          "base_uri": "https://localhost:8080/"
        },
        "id": "AaSzj8mmo3EJ",
        "outputId": "2ac5f992-1055-43d1-b885-f59ffec8ac6f"
      },
      "execution_count": null,
      "outputs": [
        {
          "output_type": "execute_result",
          "data": {
            "text/plain": [
              "array([2, 3])"
            ]
          },
          "metadata": {},
          "execution_count": 14
        }
      ]
    },
    {
      "cell_type": "code",
      "source": [
        "data[-2:]"
      ],
      "metadata": {
        "colab": {
          "base_uri": "https://localhost:8080/"
        },
        "id": "0uHkjMHMpBPp",
        "outputId": "3e278a3d-c7d1-4407-d2db-0b233de0ae00"
      },
      "execution_count": null,
      "outputs": [
        {
          "output_type": "execute_result",
          "data": {
            "text/plain": [
              "array([2, 3])"
            ]
          },
          "metadata": {},
          "execution_count": 15
        }
      ]
    },
    {
      "cell_type": "markdown",
      "source": [
        "You may want to take a section of your array or specific array elements to use in further analysis or additional operations. To do that, you'll need to subset, slice, and/or index your arrays.\n",
        "\n",
        "if you want to select values from your array that fulfill certain conditions, it's straightforward with NumPy.\n",
        "\n",
        "Examples"
      ],
      "metadata": {
        "id": "7BPgzKsNq-kC"
      }
    },
    {
      "cell_type": "code",
      "source": [
        "a = np.array([[1, 2, 3, 4], [5, 6, 7, 8], [9, 10, 11, 12]])"
      ],
      "metadata": {
        "id": "h7J2LWeEpD59"
      },
      "execution_count": null,
      "outputs": []
    },
    {
      "cell_type": "markdown",
      "source": [
        "You can easily print all of the values in the array that are less than 5 :"
      ],
      "metadata": {
        "id": "VOJQZ_Out-C2"
      }
    },
    {
      "cell_type": "code",
      "source": [
        "print(a[a < 5])"
      ],
      "metadata": {
        "colab": {
          "base_uri": "https://localhost:8080/"
        },
        "id": "PfTJEdoDt9ID",
        "outputId": "7a861abe-2079-4db2-ec03-e58486f245f9"
      },
      "execution_count": null,
      "outputs": [
        {
          "output_type": "stream",
          "name": "stdout",
          "text": [
            "[1 2 3 4]\n"
          ]
        }
      ]
    },
    {
      "cell_type": "markdown",
      "source": [
        "You can also select, for examples, number that are equal to or greater than 5 , and use that condition to index an array"
      ],
      "metadata": {
        "id": "o5UM0T5nuP5h"
      }
    },
    {
      "cell_type": "code",
      "source": [
        "five_up = (a >= 5)\n",
        "\n",
        "print(a[five_up])"
      ],
      "metadata": {
        "colab": {
          "base_uri": "https://localhost:8080/"
        },
        "id": "gwTJXqsGuOFh",
        "outputId": "9aeb5237-057b-4973-f33b-461b6368ab0e"
      },
      "execution_count": null,
      "outputs": [
        {
          "output_type": "stream",
          "name": "stdout",
          "text": [
            "[ 5  6  7  8  9 10 11 12]\n"
          ]
        }
      ]
    },
    {
      "cell_type": "markdown",
      "source": [
        "You can select elments that divisible by 2"
      ],
      "metadata": {
        "id": "PbYjWDz00BZb"
      }
    },
    {
      "cell_type": "code",
      "source": [
        "div_by_2 = a[a%2 == 0]\n",
        "print(div_by_2)"
      ],
      "metadata": {
        "id": "ay9s4i3nuxbG",
        "colab": {
          "base_uri": "https://localhost:8080/"
        },
        "outputId": "0aef6401-2a91-4c29-a691-15586728d6e9"
      },
      "execution_count": null,
      "outputs": [
        {
          "output_type": "stream",
          "name": "stdout",
          "text": [
            "[ 2  4  6  8 10 12]\n"
          ]
        }
      ]
    },
    {
      "cell_type": "markdown",
      "source": [
        "Or you can select elements that satisfy two conditions using the `&` and `|` operators :"
      ],
      "metadata": {
        "id": "A-MMoAv60n44"
      }
    },
    {
      "cell_type": "code",
      "source": [
        "c = a[(a > 2) & (a < 11)]\n",
        "c"
      ],
      "metadata": {
        "colab": {
          "base_uri": "https://localhost:8080/"
        },
        "id": "DbpBRGru0jx3",
        "outputId": "16438fe7-f66b-4efd-9cb4-61554977ba4a"
      },
      "execution_count": null,
      "outputs": [
        {
          "output_type": "execute_result",
          "data": {
            "text/plain": [
              "array([ 3,  4,  5,  6,  7,  8,  9, 10])"
            ]
          },
          "metadata": {},
          "execution_count": 20
        }
      ]
    },
    {
      "cell_type": "markdown",
      "source": [
        "You can also make use of the logical operations **&** and **|** in order to return boolean values the specify whether or not the values in an array fulfill a ceartin condation.\n",
        "\n",
        "this can be useful with arrays that contain names or other categorical values."
      ],
      "metadata": {
        "id": "DiR199iu1Kne"
      }
    },
    {
      "cell_type": "code",
      "source": [
        "five_up = (a > 5) | (a == 5)\n",
        "five_up"
      ],
      "metadata": {
        "colab": {
          "base_uri": "https://localhost:8080/"
        },
        "id": "NPdsO7Ir1GV-",
        "outputId": "39d863f7-fb7a-41b6-f6e7-3ce55b7f8f1b"
      },
      "execution_count": null,
      "outputs": [
        {
          "output_type": "execute_result",
          "data": {
            "text/plain": [
              "array([[False, False, False, False],\n",
              "       [ True,  True,  True,  True],\n",
              "       [ True,  True,  True,  True]])"
            ]
          },
          "metadata": {},
          "execution_count": 21
        }
      ]
    },
    {
      "cell_type": "markdown",
      "source": [
        "---\n",
        "\n",
        "---\n",
        "\n",
        "\n",
        "You can also use `np.nonzero()` to select elements or indices from an array. "
      ],
      "metadata": {
        "id": "ECPLHx3K2OYV"
      }
    },
    {
      "cell_type": "markdown",
      "source": [
        "\n",
        "Example )) print the indices of elements that are, Less than 5 "
      ],
      "metadata": {
        "id": "RgYX5h832vc4"
      }
    },
    {
      "cell_type": "code",
      "source": [
        "b = np.nonzero(a < 5)\n",
        "b"
      ],
      "metadata": {
        "colab": {
          "base_uri": "https://localhost:8080/"
        },
        "id": "6Krq-yNA2HE3",
        "outputId": "205a54c7-62c8-463d-a5d0-7330d6de7856"
      },
      "execution_count": null,
      "outputs": [
        {
          "output_type": "execute_result",
          "data": {
            "text/plain": [
              "(array([0, 0, 0, 0]), array([0, 1, 2, 3]))"
            ]
          },
          "metadata": {},
          "execution_count": 22
        }
      ]
    },
    {
      "cell_type": "markdown",
      "source": [
        "In this example,  a tuple of array was returend : one for each dimension. The first array represents the row indices where these values are found, and the seceond array represents the colum indices where the values found.\n",
        "\n",
        "If you wan to generate a list of coordinates where the elements exist, you can zip the array, iterate the list of coordinates, and print them.  Exampel"
      ],
      "metadata": {
        "id": "SJU6Kkss3Ig5"
      }
    },
    {
      "cell_type": "code",
      "source": [
        "list_of_coordinates = list(zip(b[1], b[0]))"
      ],
      "metadata": {
        "id": "Y3MVREmp3F5G"
      },
      "execution_count": null,
      "outputs": []
    },
    {
      "cell_type": "code",
      "source": [
        "for coord in list_of_coordinates:\n",
        "  print(coord)"
      ],
      "metadata": {
        "colab": {
          "base_uri": "https://localhost:8080/"
        },
        "id": "DX-tAWPCCifY",
        "outputId": "8dbb1c82-c4ce-464f-e675-8cf63af4b0aa"
      },
      "execution_count": null,
      "outputs": [
        {
          "output_type": "stream",
          "name": "stdout",
          "text": [
            "(0, 0)\n",
            "(1, 0)\n",
            "(2, 0)\n",
            "(3, 0)\n"
          ]
        }
      ]
    },
    {
      "cell_type": "markdown",
      "source": [
        "You can also use `np.nonzero()` to print the elements in an array that are less than 5 with :"
      ],
      "metadata": {
        "id": "awINxkVFC5Hh"
      }
    },
    {
      "cell_type": "code",
      "source": [
        "print(a[b])"
      ],
      "metadata": {
        "colab": {
          "base_uri": "https://localhost:8080/"
        },
        "id": "A-2f4JzECucm",
        "outputId": "92fcec65-74b0-419e-b823-26ea2314f8ed"
      },
      "execution_count": null,
      "outputs": [
        {
          "output_type": "stream",
          "name": "stdout",
          "text": [
            "[1 2 3 4]\n"
          ]
        }
      ]
    },
    {
      "cell_type": "markdown",
      "source": [
        "If the elements you're looking for doesn't exist in the array, then the returned array of indices will be empty.  Example"
      ],
      "metadata": {
        "id": "d_Jpws0yDMVr"
      }
    },
    {
      "cell_type": "code",
      "source": [
        "not_there = np.nonzero(a == 42)\n",
        "print(not_there)"
      ],
      "metadata": {
        "colab": {
          "base_uri": "https://localhost:8080/"
        },
        "id": "PWRKFchTDLQ5",
        "outputId": "b1490576-6298-4377-ab48-10d00d8b2e16"
      },
      "execution_count": null,
      "outputs": [
        {
          "output_type": "stream",
          "name": "stdout",
          "text": [
            "(array([], dtype=int64), array([], dtype=int64))\n"
          ]
        }
      ]
    },
    {
      "cell_type": "markdown",
      "source": [
        "___\n",
        "___\n",
        "___\n",
        "# numpy.nonzero\n",
        "\n",
        "      numpy.nonzero(a)\n",
        "\n",
        "Return the indices of the elements that are non-zero.\n",
        "\n",
        "\n",
        "Returns a tuple of arrays, one for each dimension of a, containing the indices of the non-zero elements in that dimension. The values in a are always tested and returned in row-major, C-style order.\n",
        "\n",
        "To group the indices by element, rather than dimension, use argwhere, which returns a row for each non-zero element.\n",
        "\n",
        "  Parameters : a : *array_like*\n",
        "\n",
        "  Input array.\n",
        "\n",
        "Returns :tuple_of_arrays : *tuple*\n",
        "\n",
        "Indices of elements that are non-zero."
      ],
      "metadata": {
        "id": "FH2_JKMvKWTa"
      }
    },
    {
      "cell_type": "code",
      "source": [
        "x = np.array([[3, 0, 0], [0, 4, 0], [5, 6, 0]])\n",
        "x"
      ],
      "metadata": {
        "id": "7I2LsfYTDzId",
        "colab": {
          "base_uri": "https://localhost:8080/"
        },
        "outputId": "961d3759-1ee2-46d1-ee36-0956a15f67e2"
      },
      "execution_count": null,
      "outputs": [
        {
          "output_type": "execute_result",
          "data": {
            "text/plain": [
              "array([[3, 0, 0],\n",
              "       [0, 4, 0],\n",
              "       [5, 6, 0]])"
            ]
          },
          "metadata": {},
          "execution_count": 3
        }
      ]
    },
    {
      "cell_type": "code",
      "source": [
        "np.nonzero(x)"
      ],
      "metadata": {
        "colab": {
          "base_uri": "https://localhost:8080/"
        },
        "id": "7an1VlsjecHC",
        "outputId": "9dff5015-9158-4c85-d648-9878b2be271b"
      },
      "execution_count": null,
      "outputs": [
        {
          "output_type": "execute_result",
          "data": {
            "text/plain": [
              "(array([0, 1, 2, 2]), array([0, 1, 0, 1]))"
            ]
          },
          "metadata": {},
          "execution_count": 4
        }
      ]
    },
    {
      "cell_type": "code",
      "source": [
        "x[np.nonzero(x)]"
      ],
      "metadata": {
        "colab": {
          "base_uri": "https://localhost:8080/"
        },
        "id": "-uxU8TVyeoLk",
        "outputId": "03997169-7f5d-4031-86c9-c176101a7cac"
      },
      "execution_count": null,
      "outputs": [
        {
          "output_type": "execute_result",
          "data": {
            "text/plain": [
              "array([3, 4, 5, 6])"
            ]
          },
          "metadata": {},
          "execution_count": 5
        }
      ]
    },
    {
      "cell_type": "code",
      "source": [
        "np.transpose(np.nonzero(x))"
      ],
      "metadata": {
        "colab": {
          "base_uri": "https://localhost:8080/"
        },
        "id": "quy2IFGieqcG",
        "outputId": "5e4225db-b1d8-4068-ae0a-ccfa79ae0796"
      },
      "execution_count": null,
      "outputs": [
        {
          "output_type": "execute_result",
          "data": {
            "text/plain": [
              "array([[0, 0],\n",
              "       [1, 1],\n",
              "       [2, 0],\n",
              "       [2, 1]])"
            ]
          },
          "metadata": {},
          "execution_count": 6
        }
      ]
    },
    {
      "cell_type": "markdown",
      "source": [
        "A common use for nonzero is to find the indices of an array, where a condition is True. Given an array a, the condition a > 3 is a boolean array and since False is interpreted as 0, np.nonzero(a > 3) yields the indices of the a where the condition is true."
      ],
      "metadata": {
        "id": "QtMRnZ30eyA8"
      }
    },
    {
      "cell_type": "code",
      "source": [
        "a = np.array([[1, 2, 3], [4, 5, 6], [7, 8, 9]])"
      ],
      "metadata": {
        "id": "e-Kwqo8ietKb"
      },
      "execution_count": null,
      "outputs": []
    },
    {
      "cell_type": "code",
      "source": [
        "a > 3"
      ],
      "metadata": {
        "colab": {
          "base_uri": "https://localhost:8080/"
        },
        "id": "xHydPOqre5vg",
        "outputId": "4bea6e91-6f56-42c6-9318-f1a4e2e6bab8"
      },
      "execution_count": null,
      "outputs": [
        {
          "output_type": "execute_result",
          "data": {
            "text/plain": [
              "array([[False, False, False],\n",
              "       [ True,  True,  True],\n",
              "       [ True,  True,  True]])"
            ]
          },
          "metadata": {},
          "execution_count": 8
        }
      ]
    },
    {
      "cell_type": "code",
      "source": [
        "np.nonzero(a > 3)"
      ],
      "metadata": {
        "colab": {
          "base_uri": "https://localhost:8080/"
        },
        "id": "Y8QlHfrKe7xJ",
        "outputId": "34325ad2-3e05-4af8-f9ea-d4fcd6223e9e"
      },
      "execution_count": null,
      "outputs": [
        {
          "output_type": "execute_result",
          "data": {
            "text/plain": [
              "(array([1, 1, 1, 2, 2, 2]), array([0, 1, 2, 0, 1, 2]))"
            ]
          },
          "metadata": {},
          "execution_count": 9
        }
      ]
    },
    {
      "cell_type": "code",
      "source": [
        "# Using this result to index a is equivalent to using the mask directly:\n",
        "a[np.nonzero(a > 3)]"
      ],
      "metadata": {
        "colab": {
          "base_uri": "https://localhost:8080/"
        },
        "id": "E5_qwRIce-6-",
        "outputId": "b18e3370-f203-47b0-f8ff-1e893fc23cf7"
      },
      "execution_count": null,
      "outputs": [
        {
          "output_type": "execute_result",
          "data": {
            "text/plain": [
              "array([4, 5, 6, 7, 8, 9])"
            ]
          },
          "metadata": {},
          "execution_count": 10
        }
      ]
    },
    {
      "cell_type": "code",
      "source": [
        "a[a > 3]  # prefer this spelling"
      ],
      "metadata": {
        "colab": {
          "base_uri": "https://localhost:8080/"
        },
        "id": "-T35qHxefFWG",
        "outputId": "7b67f5e4-85d2-4798-fa1f-ff834d9ab4d7"
      },
      "execution_count": null,
      "outputs": [
        {
          "output_type": "execute_result",
          "data": {
            "text/plain": [
              "array([4, 5, 6, 7, 8, 9])"
            ]
          },
          "metadata": {},
          "execution_count": 11
        }
      ]
    },
    {
      "cell_type": "code",
      "source": [
        "# nonzero can also be called as a method of the array.\n",
        "\n",
        "(a > 3).nonzero()\n"
      ],
      "metadata": {
        "colab": {
          "base_uri": "https://localhost:8080/"
        },
        "id": "VAo43vvmfIAW",
        "outputId": "6dd99901-7bf9-4322-cb7f-fa53b25fba64"
      },
      "execution_count": null,
      "outputs": [
        {
          "output_type": "execute_result",
          "data": {
            "text/plain": [
              "(array([1, 1, 1, 2, 2, 2]), array([0, 1, 2, 0, 1, 2]))"
            ]
          },
          "metadata": {},
          "execution_count": 12
        }
      ]
    },
    {
      "cell_type": "code",
      "source": [
        ""
      ],
      "metadata": {
        "id": "teTySxyXfM1t"
      },
      "execution_count": null,
      "outputs": []
    }
  ]
}