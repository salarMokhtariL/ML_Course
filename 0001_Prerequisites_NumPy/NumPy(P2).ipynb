{
  "nbformat": 4,
  "nbformat_minor": 0,
  "metadata": {
    "colab": {
      "name": "NumPy(P2).ipynb",
      "provenance": []
    },
    "kernelspec": {
      "name": "python3",
      "display_name": "Python 3"
    },
    "language_info": {
      "name": "python"
    }
  },
  "cells": [
    {
      "cell_type": "markdown",
      "source": [
        "# PART 2\n",
        "## Adding, removing, and sorting elemrnts\n",
        "  The section covers\n",
        "\n",
        "    `np.sort()`\n",
        "\n",
        "    `np.concatenate()`"
      ],
      "metadata": {
        "id": "yo7rmgVrPyiK"
      }
    },
    {
      "cell_type": "markdown",
      "source": [
        "Sorting an element is simple with `np.sort()`. You can specify the axis,kind,and order when call the function.\n",
        "\n",
        "if you start with this array:"
      ],
      "metadata": {
        "id": "53KmBMmBeH37"
      }
    },
    {
      "cell_type": "code",
      "source": [
        "import numpy as np\n",
        "arr = np.array([2,1,5,3,7,4,6,8])"
      ],
      "metadata": {
        "id": "RZD5vTrpfudE"
      },
      "execution_count": null,
      "outputs": []
    },
    {
      "cell_type": "markdown",
      "source": [
        "You can quickly sort the numbers in ascending order with :"
      ],
      "metadata": {
        "id": "5ughS0Vrf58D"
      }
    },
    {
      "cell_type": "code",
      "source": [
        "np.sort(arr)"
      ],
      "metadata": {
        "id": "vGk8XocCgFrZ",
        "colab": {
          "base_uri": "https://localhost:8080/"
        },
        "outputId": "72dd5e2e-e671-4f96-8025-486b5b4202c4"
      },
      "execution_count": null,
      "outputs": [
        {
          "output_type": "execute_result",
          "data": {
            "text/plain": [
              "array([1, 2, 3, 4, 5, 6, 7, 8])"
            ]
          },
          "metadata": {},
          "execution_count": 2
        }
      ]
    },
    {
      "cell_type": "markdown",
      "source": [
        "In addition to sort, which returns a sorted copy of an array, you can use :\n",
        "\n",
        "\n",
        "\n",
        "*   **argsort**  , which's an idirect sort along a specified axis\n",
        "*   **lexsort**  , which's an idirect stable sort on multiple keys\n",
        "*   **searchsorted** , which will find elements in a sorted array \n",
        "*  **partition**  , which's a partical sort\n",
        "\n"
      ],
      "metadata": {
        "id": "KFKZSe9xRn1K"
      }
    },
    {
      "cell_type": "markdown",
      "source": [
        "If you started with this arrays:"
      ],
      "metadata": {
        "id": "RuVVdXKKTTtg"
      }
    },
    {
      "cell_type": "code",
      "source": [
        "a = np.array([1,2,3,4])\n",
        "b = np.array([5,6,7,8])"
      ],
      "metadata": {
        "id": "eGbZlZ4kRlFh"
      },
      "execution_count": null,
      "outputs": []
    },
    {
      "cell_type": "markdown",
      "source": [
        "You can concatenate them with `np.concatenate`\n",
        "\n"
      ],
      "metadata": {
        "id": "Er9ZYA_2Tp-A"
      }
    },
    {
      "cell_type": "code",
      "source": [
        "np.concatenate((a, b))"
      ],
      "metadata": {
        "colab": {
          "base_uri": "https://localhost:8080/"
        },
        "id": "GcHLy2O8ToEQ",
        "outputId": "dba3af0d-627d-45c9-eb15-1be7ffad4e5e"
      },
      "execution_count": null,
      "outputs": [
        {
          "output_type": "execute_result",
          "data": {
            "text/plain": [
              "array([1, 2, 3, 4, 5, 6, 7, 8])"
            ]
          },
          "metadata": {},
          "execution_count": 4
        }
      ]
    },
    {
      "cell_type": "markdown",
      "source": [
        "Or, if you started with these arrays:"
      ],
      "metadata": {
        "id": "8cfhcNgrUtPE"
      }
    },
    {
      "cell_type": "code",
      "source": [
        "x = np.array([[1, 2], [3, 4]])\n",
        "y = np.array([[5, 6]])"
      ],
      "metadata": {
        "id": "vaLClDhxUA2C"
      },
      "execution_count": null,
      "outputs": []
    },
    {
      "cell_type": "code",
      "source": [
        "# You can concatenate them (x,y) with:\n",
        "\n",
        "np.concatenate((x, y), axis=0)"
      ],
      "metadata": {
        "colab": {
          "base_uri": "https://localhost:8080/"
        },
        "id": "xgg_ZeU4U-Wb",
        "outputId": "c8610610-5da7-4c33-c2c9-b958d859f59f"
      },
      "execution_count": null,
      "outputs": [
        {
          "output_type": "execute_result",
          "data": {
            "text/plain": [
              "array([[1, 2],\n",
              "       [3, 4],\n",
              "       [5, 6]])"
            ]
          },
          "metadata": {},
          "execution_count": 11
        }
      ]
    },
    {
      "cell_type": "markdown",
      "source": [
        "# NumPy.concatenate\n",
        "\n",
        "    numpy.concatenate((a1,a2,...), axis = 0, out=None , dtype=None, casting=\"same_kind\")\n",
        "\n",
        "\n",
        "join a sequence of arrays along an existing axis\n",
        "\n",
        "---\n",
        "\n",
        "**Parameters**  :  \n",
        "\n",
        "1.   **a1,a2, ...** : *sequence of array_like*\n",
        "  \n",
        "  The arrays must have the same shape, except in the dimension corresponding to axis(The first by default)\n",
        "2.  **axis** : *int, Optional*\n",
        "\n",
        "  The axis  along which the arrays will be joined, if axis is None, arrays are flattened before use. Default is 0.\n",
        "\n",
        "3.   **out** : *nadarray, optimal* \n",
        "\n",
        "  if provided, the destination to place the result. The shape must be correct, matching that of what concatenate would have returned if no out argument were specified\n",
        "\n",
        "4.   **dtype** :  *str or dtype*\n",
        "\n",
        "  if provided, the destination array will have this dtype. Cannot be provided together with out.\n",
        "  \n",
        "  *New in version  1.20.0.*\n",
        "\n",
        "5.  **casting** : *{'no','equiv','safe','same_kind','unsafe'},optimal*\n",
        "\n",
        "  Controls what kind of data casting may occur, Defaults to \n",
        "  \n",
        "  'same_kind'.\n",
        "\n",
        "  *New in version 1.20.0*\n",
        "---\n",
        "\n",
        "**Returns**   :   \n",
        "*  **res**: *nadarray*\n",
        "\n",
        "  The concatenated array."
      ],
      "metadata": {
        "id": "oof0GegTWDai"
      }
    },
    {
      "cell_type": "markdown",
      "source": [
        "## Examples\n",
        "\n",
        "1 --"
      ],
      "metadata": {
        "id": "AODAVBMw0L6S"
      }
    },
    {
      "cell_type": "code",
      "source": [
        "a = np.array([[1, 2],[3, 4]])\n",
        "b = np.array([[5, 6]])\n",
        "np.concatenate((a, b), axis=0)"
      ],
      "metadata": {
        "id": "ltlWdhJ2VaaV",
        "colab": {
          "base_uri": "https://localhost:8080/"
        },
        "outputId": "f006e9f8-5112-4c25-c30e-79501deee3cf"
      },
      "execution_count": null,
      "outputs": [
        {
          "output_type": "execute_result",
          "data": {
            "text/plain": [
              "array([[1, 2],\n",
              "       [3, 4],\n",
              "       [5, 6]])"
            ]
          },
          "metadata": {},
          "execution_count": 3
        }
      ]
    },
    {
      "cell_type": "code",
      "source": [
        "np.concatenate((a, b.T), axis=1)"
      ],
      "metadata": {
        "colab": {
          "base_uri": "https://localhost:8080/"
        },
        "id": "rcGJW3nk0vfK",
        "outputId": "2626f551-0bf3-495d-8fd5-1ffc7fb33f8f"
      },
      "execution_count": null,
      "outputs": [
        {
          "output_type": "execute_result",
          "data": {
            "text/plain": [
              "array([[1, 2, 5],\n",
              "       [3, 4, 6]])"
            ]
          },
          "metadata": {},
          "execution_count": 7
        }
      ]
    },
    {
      "cell_type": "code",
      "source": [
        "np.concatenate((a, b), axis=None)"
      ],
      "metadata": {
        "colab": {
          "base_uri": "https://localhost:8080/"
        },
        "id": "jSL9XdYy193E",
        "outputId": "7eed6cf5-218a-47df-c0f2-a1bcdf0ee99a"
      },
      "execution_count": null,
      "outputs": [
        {
          "output_type": "execute_result",
          "data": {
            "text/plain": [
              "array([1, 2, 3, 4, 5, 6])"
            ]
          },
          "metadata": {},
          "execution_count": 8
        }
      ]
    },
    {
      "cell_type": "markdown",
      "source": [
        "This function will not preserve masking of MaskedArray inputs"
      ],
      "metadata": {
        "id": "ps4s7mBH2WXq"
      }
    },
    {
      "cell_type": "code",
      "source": [
        "a = np.ma.arange(3)\n",
        "a[1] = np.ma.masked\n",
        "b = np.arange(2, 5)\n",
        "a"
      ],
      "metadata": {
        "colab": {
          "base_uri": "https://localhost:8080/"
        },
        "id": "t1LtQYsU2WLQ",
        "outputId": "8958d37d-85d5-41a1-c309-f2e984a75e54"
      },
      "execution_count": null,
      "outputs": [
        {
          "output_type": "execute_result",
          "data": {
            "text/plain": [
              "masked_array(data=[0, --, 2],\n",
              "             mask=[False,  True, False],\n",
              "       fill_value=999999)"
            ]
          },
          "metadata": {},
          "execution_count": 9
        }
      ]
    },
    {
      "cell_type": "code",
      "source": [
        "b"
      ],
      "metadata": {
        "colab": {
          "base_uri": "https://localhost:8080/"
        },
        "id": "fSNTMcEt25Ps",
        "outputId": "4f8d92ad-23b0-401f-9bae-5ac48d562afd"
      },
      "execution_count": null,
      "outputs": [
        {
          "output_type": "execute_result",
          "data": {
            "text/plain": [
              "array([2, 3, 4])"
            ]
          },
          "metadata": {},
          "execution_count": 10
        }
      ]
    },
    {
      "cell_type": "code",
      "source": [
        "np.concatenate([a, b])"
      ],
      "metadata": {
        "colab": {
          "base_uri": "https://localhost:8080/"
        },
        "id": "mH_pxoPh3Spb",
        "outputId": "0255d54e-4973-416e-9e93-925b32ae08ea"
      },
      "execution_count": null,
      "outputs": [
        {
          "output_type": "execute_result",
          "data": {
            "text/plain": [
              "masked_array(data=[0, 1, 2, 2, 3, 4],\n",
              "             mask=False,\n",
              "       fill_value=999999)"
            ]
          },
          "metadata": {},
          "execution_count": 11
        }
      ]
    },
    {
      "cell_type": "code",
      "source": [
        "np.ma.concatenate([a, b])"
      ],
      "metadata": {
        "colab": {
          "base_uri": "https://localhost:8080/"
        },
        "id": "y5iNHtrU3f4b",
        "outputId": "c85c84bb-d13f-462c-a792-f01e2ed7425e"
      },
      "execution_count": null,
      "outputs": [
        {
          "output_type": "execute_result",
          "data": {
            "text/plain": [
              "masked_array(data=[0, --, 2, 2, 3, 4],\n",
              "             mask=[False,  True, False, False, False, False],\n",
              "       fill_value=999999)"
            ]
          },
          "metadata": {},
          "execution_count": 12
        }
      ]
    }
  ]
}