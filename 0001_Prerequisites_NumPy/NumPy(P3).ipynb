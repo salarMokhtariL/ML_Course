{
  "nbformat": 4,
  "nbformat_minor": 0,
  "metadata": {
    "colab": {
      "name": "NumPy(P3).ipynb",
      "provenance": []
    },
    "kernelspec": {
      "name": "python3",
      "display_name": "Python 3"
    },
    "language_info": {
      "name": "python"
    }
  },
  "cells": [
    {
      "cell_type": "markdown",
      "source": [
        "# PART 3\n",
        "## How do you know the shape and size of an array?\n",
        "## Can you reshape an array?\n",
        "\n",
        "  The section covers\n",
        "\n",
        "```\n",
        " * ndarray.ndim\n",
        " * Ndarray.size\n",
        " * ndarray.shape\n",
        " * arr.reshape\n",
        "\n",
        "```\n",
        "\n",
        "\n",
        "\n"
      ],
      "metadata": {
        "id": "WhTRbvs145SM"
      }
    },
    {
      "cell_type": "markdown",
      "source": [
        "`ndarray.ndim` ---- will tell you number of axes, or demensions of the array\n",
        "\n",
        "`ndarray.size` ---- will tell you the total number of elements of the array.This is the product of the elements of array's shape. \n",
        "\n",
        "\n",
        "`ndarray` ---- will display a tuple of integers that indicate the number of elements stored along each dimension of the array. if, for example, you have a 2-D array with 2 rows and 3 columns, the shape of your array is `(2, 3)`\n",
        "\n",
        "\n",
        "**Example** :"
      ],
      "metadata": {
        "id": "xdKRn1KA5yEc"
      }
    },
    {
      "cell_type": "code",
      "source": [
        "import numpy as np"
      ],
      "metadata": {
        "id": "OE3fD6DS5iLa"
      },
      "execution_count": null,
      "outputs": []
    },
    {
      "cell_type": "code",
      "source": [
        "array_example = np.array([[[0, 1, 2, 3],\n",
        "                          [4, 5, 6, 7]],\n",
        "                          \n",
        "                          [[0, 1, 2, 3],\n",
        "                          [4, 5, 6, 7]],\n",
        "                         \n",
        "                          [[0, 1, 2, 3],\n",
        "                          [4, 5, 6, 7]]])"
      ],
      "metadata": {
        "id": "ObcbsgcZP-IT"
      },
      "execution_count": null,
      "outputs": []
    },
    {
      "cell_type": "markdown",
      "source": [
        "To find the number of dimensions of the array, run :"
      ],
      "metadata": {
        "id": "gz4586WcR1S7"
      }
    },
    {
      "cell_type": "code",
      "source": [
        "array_example.ndim"
      ],
      "metadata": {
        "colab": {
          "base_uri": "https://localhost:8080/"
        },
        "id": "bOg4btwLQ9t0",
        "outputId": "d018b6ad-37c5-45dd-c4f5-a4271dad8f8e"
      },
      "execution_count": null,
      "outputs": [
        {
          "output_type": "execute_result",
          "data": {
            "text/plain": [
              "3"
            ]
          },
          "metadata": {},
          "execution_count": 4
        }
      ]
    },
    {
      "cell_type": "markdown",
      "source": [
        "To find the total number of elements in the array, run:"
      ],
      "metadata": {
        "id": "7uXRYG8RSDaM"
      }
    },
    {
      "cell_type": "code",
      "source": [
        "array_example.size"
      ],
      "metadata": {
        "colab": {
          "base_uri": "https://localhost:8080/"
        },
        "id": "HZ3eULOrRKVD",
        "outputId": "3bfc4f3f-a394-42a8-8fbc-a388f5ab9e46"
      },
      "execution_count": null,
      "outputs": [
        {
          "output_type": "execute_result",
          "data": {
            "text/plain": [
              "24"
            ]
          },
          "metadata": {},
          "execution_count": 5
        }
      ]
    },
    {
      "cell_type": "markdown",
      "source": [
        "And to find the shape of your array, run:"
      ],
      "metadata": {
        "id": "Gj29tki_StSN"
      }
    },
    {
      "cell_type": "code",
      "source": [
        "array_example.shape"
      ],
      "metadata": {
        "colab": {
          "base_uri": "https://localhost:8080/"
        },
        "id": "dH9rq21bScYP",
        "outputId": "882ba6e9-a6a1-49b6-f133-affe4a3dd383"
      },
      "execution_count": null,
      "outputs": [
        {
          "output_type": "execute_result",
          "data": {
            "text/plain": [
              "(3, 2, 4)"
            ]
          },
          "metadata": {},
          "execution_count": 6
        }
      ]
    },
    {
      "cell_type": "markdown",
      "source": [
        "# Can you reshape an array ?\n",
        "\n",
        "This section covers `arr,reshape()`"
      ],
      "metadata": {
        "id": "A-TMDltgTCRo"
      }
    },
    {
      "cell_type": "markdown",
      "source": [
        "**YES !**\n",
        "\n",
        "\n",
        "Using `arr.reshape()`  will give a new shape to an array without changing the data.just remeber that when you use the reshape method, the array you want to produce needs to have the same number of elements as the original array. if you start with an array with 12 elements, you'll need to make sure that your new array also has a total of 12 elements \n",
        "\n",
        "\n",
        "if you start with this array : "
      ],
      "metadata": {
        "id": "G7rCNcwUTQd7"
      }
    },
    {
      "cell_type": "code",
      "source": [
        "a = np.arange(6)\n",
        "print(a)"
      ],
      "metadata": {
        "id": "_6BbyByJS4Q6",
        "colab": {
          "base_uri": "https://localhost:8080/"
        },
        "outputId": "d1ab06a8-ad2d-4a47-af90-6014e77e74e0"
      },
      "execution_count": null,
      "outputs": [
        {
          "output_type": "stream",
          "name": "stdout",
          "text": [
            "[0 1 2 3 4 5]\n"
          ]
        }
      ]
    },
    {
      "cell_type": "markdown",
      "source": [
        "You cane use `reshape()` to reshape your array.For example, you can reshape this array to an array with three rows and two columns:"
      ],
      "metadata": {
        "id": "LxvlDLPCCPgl"
      }
    },
    {
      "cell_type": "code",
      "source": [
        "b = a.reshape(3, 2)\n",
        "print(b)"
      ],
      "metadata": {
        "colab": {
          "base_uri": "https://localhost:8080/"
        },
        "id": "vKvue5wuBtfa",
        "outputId": "4ee3933d-bbab-4cbb-c910-450c725eef7d"
      },
      "execution_count": null,
      "outputs": [
        {
          "output_type": "stream",
          "name": "stdout",
          "text": [
            "[[0 1]\n",
            " [2 3]\n",
            " [4 5]]\n"
          ]
        }
      ]
    },
    {
      "cell_type": "markdown",
      "source": [
        "With `np.reshape`, you can specify a few optional parameters :"
      ],
      "metadata": {
        "id": "u9M8MOQACs1w"
      }
    },
    {
      "cell_type": "code",
      "source": [
        "np.reshape(a, newshape=(1, 6), order='C')"
      ],
      "metadata": {
        "colab": {
          "base_uri": "https://localhost:8080/"
        },
        "id": "85vNuzJnCNeo",
        "outputId": "2008862f-96f6-469f-c52e-5629639ac071"
      },
      "execution_count": null,
      "outputs": [
        {
          "output_type": "execute_result",
          "data": {
            "text/plain": [
              "array([[0, 1, 2, 3, 4, 5]])"
            ]
          },
          "metadata": {},
          "execution_count": 5
        }
      ]
    },
    {
      "cell_type": "markdown",
      "source": [
        "`a` is the array to be reshape \n",
        "\n",
        "---\n",
        "\n",
        "`newshape` is the new shape you want.You can specify or a tuple of integers. if you sepcify an integer , the result will be an array of that length. The shape should be compatible with the orignal shape.\n",
        "\n",
        "---\n",
        "\n",
        "`order : C` mean to read/write the elements using C-like index order, `F` means to read/write the elements using Fortran-like index order, `A` means to read/write the elements in Fortran-like order if a is Fortran contiguous in memory, C-like order otherwise(This's an optimal parameter and doesn't need to be specified)\n",
        "\n",
        "\n"
      ],
      "metadata": {
        "id": "r0cCXm2nDKmt"
      }
    }
  ]
}