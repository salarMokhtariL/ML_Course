{
  "nbformat": 4,
  "nbformat_minor": 0,
  "metadata": {
    "colab": {
      "name": "001_Python_Basic_description.ipynb",
      "provenance": [],
      "authorship_tag": "ABX9TyNknMn8MJ/YxtOR/orfiawC",
      "include_colab_link": true
    },
    "kernelspec": {
      "name": "python3",
      "display_name": "Python 3"
    },
    "language_info": {
      "name": "python"
    }
  },
  "cells": [
    {
      "cell_type": "markdown",
      "metadata": {
        "id": "view-in-github",
        "colab_type": "text"
      },
      "source": [
        "<a href=\"https://colab.research.google.com/github/salarMokhtariL/ML_Course/blob/main/0000-Prerequisites_Python/001_Python_Basic_description.ipynb\" target=\"_parent\"><img src=\"https://colab.research.google.com/assets/colab-badge.svg\" alt=\"Open In Colab\"/></a>"
      ]
    },
    {
      "cell_type": "markdown",
      "source": [
        "# 001_Python \n",
        "\n",
        "*Basic description of the structure and general schematic of Python*\n",
        "## Salar Mokhtari Laleh \n",
        "\n",
        "\n",
        "\n",
        "### What is Python?\n",
        "\n",
        "Python is a popular programming language. It was created by Guido van Rossum, and released in 1991.\n",
        "\n",
        "It is used for:\n",
        "\n",
        "  * web development (server-side),\n",
        "  * software development,\n",
        "  * mathematics,\n",
        "  * system scripting.\n",
        "\n",
        "### What can Python do?\n",
        "  * Python can be used on a server to create web applications.\n",
        "  * Python can be used alongside software to create workflows.\n",
        "  * Python can connect to database systems. It can also read and modify files.\n",
        "  * Python can be used to handle big data and perform complex mathematics.\n",
        "  * Python can be used for rapid prototyping, or for production-ready software development.\n",
        "\n",
        "\n",
        "### Why Python?\n",
        "  * Python works on different platforms (Windows, Mac, Linux, Raspberry Pi, etc).\n",
        "  * Python has a simple syntax similar to the English language.\n",
        "  * Python has syntax that allows developers to write programs with fewer lines than some other programming languages.\n",
        "  * Python runs on an interpreter system, meaning that code can be executed as soon as it is written. This means that prototyping can be very quick.\n",
        "  * Python can be treated in a procedural way, an object-oriented way or a functional way.\n",
        "\n"
      ],
      "metadata": {
        "id": "fZ4LizEOcFLo"
      }
    },
    {
      "cell_type": "markdown",
      "source": [
        "### Python Install\n",
        "Many PCs and Macs will have python already installed.\n",
        "\n",
        "To check if you have python installed on a Windows PC, search in the start bar for Python or run the following on the Command Line (cmd.exe):\n",
        "\n",
        "    C:\\Users\\Your Name>python --version\n",
        "\n",
        "To check if you have python installed on a Linux or Mac, then on linux open the command line or on Mac open the Terminal and type:\n",
        "\n",
        "    python --version\n",
        "\n",
        "If you find that you do not have Python installed on your computer, then you can download it for free from the following website: https://www.python.org/\n",
        "\n"
      ],
      "metadata": {
        "id": "vbpqnRLnj5nf"
      }
    }
  ]
}