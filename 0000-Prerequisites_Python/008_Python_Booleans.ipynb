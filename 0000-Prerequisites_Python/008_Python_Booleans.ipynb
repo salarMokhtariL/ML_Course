{
  "nbformat": 4,
  "nbformat_minor": 0,
  "metadata": {
    "colab": {
      "name": "008_Python_Booleans.ipynb",
      "provenance": [],
      "authorship_tag": "ABX9TyMomCaEDNKU1kABubtMqjS3",
      "include_colab_link": true
    },
    "kernelspec": {
      "name": "python3",
      "display_name": "Python 3"
    },
    "language_info": {
      "name": "python"
    }
  },
  "cells": [
    {
      "cell_type": "markdown",
      "metadata": {
        "id": "view-in-github",
        "colab_type": "text"
      },
      "source": [
        "<a href=\"https://colab.research.google.com/github/salarMokhtariL/ML_Course/blob/main/0000-Prerequisites_Python/008_Python_Booleans.ipynb\" target=\"_parent\"><img src=\"https://colab.research.google.com/assets/colab-badge.svg\" alt=\"Open In Colab\"/></a>"
      ]
    },
    {
      "cell_type": "markdown",
      "source": [
        "Booleans represent one of two values: `True` or `False`.\n",
        "\n"
      ],
      "metadata": {
        "id": "9mYnyy0qAKSp"
      }
    },
    {
      "cell_type": "markdown",
      "source": [
        "### Boolean Values\n",
        "In programming you often need to know if an expression is `True` or `False`.\n",
        "\n",
        "You can evaluate any expression in Python, and get one of two answers, `True` or `False`.\n",
        "\n",
        "When you compare two values, the expression is evaluated and Python returns the Boolean answer:\n"
      ],
      "metadata": {
        "id": "CFKHUVmPA5ky"
      }
    },
    {
      "cell_type": "code",
      "source": [
        "print(10 > 9)\n",
        "print(10 == 9)\n",
        "print(10 < 9)"
      ],
      "metadata": {
        "colab": {
          "base_uri": "https://localhost:8080/"
        },
        "id": "PAmoE9YoA3OI",
        "outputId": "8736754e-3a71-44b3-b760-db4362da633c"
      },
      "execution_count": 25,
      "outputs": [
        {
          "output_type": "stream",
          "name": "stdout",
          "text": [
            "True\n",
            "False\n",
            "False\n"
          ]
        }
      ]
    },
    {
      "cell_type": "markdown",
      "source": [
        "When you run a condition in an if statement, Python returns True or `False`:"
      ],
      "metadata": {
        "id": "RtzLuymxBEhl"
      }
    },
    {
      "cell_type": "code",
      "source": [
        "a = 200\n",
        "b = 33\n",
        "\n",
        "if b > a:\n",
        "  print(\"b is greater than a\")\n",
        "else:\n",
        "  print(\"b is not greater than a\")"
      ],
      "metadata": {
        "colab": {
          "base_uri": "https://localhost:8080/"
        },
        "id": "7HwLhc2bBCxl",
        "outputId": "10ecdf32-7915-4208-f12e-dea56c518b70"
      },
      "execution_count": 26,
      "outputs": [
        {
          "output_type": "stream",
          "name": "stdout",
          "text": [
            "b is not greater than a\n"
          ]
        }
      ]
    },
    {
      "cell_type": "markdown",
      "source": [
        "### Evaluate Values and Variables\n",
        "\n",
        "The `bool()` function allows you to evaluate any value, and give you `True` or `False` in return,\n",
        "\n"
      ],
      "metadata": {
        "id": "YVEq_QblBJi_"
      }
    },
    {
      "cell_type": "code",
      "source": [
        "print(bool(\"Hello\"))\n",
        "print(bool(15))"
      ],
      "metadata": {
        "colab": {
          "base_uri": "https://localhost:8080/"
        },
        "id": "obZTN-nYBIHB",
        "outputId": "addf0865-898b-458c-b30c-28427615f8e7"
      },
      "execution_count": 27,
      "outputs": [
        {
          "output_type": "stream",
          "name": "stdout",
          "text": [
            "True\n",
            "True\n"
          ]
        }
      ]
    },
    {
      "cell_type": "code",
      "source": [
        "x = \"Hello\"\n",
        "y = 15\n",
        "\n",
        "print(bool(x))\n",
        "print(bool(y))"
      ],
      "metadata": {
        "colab": {
          "base_uri": "https://localhost:8080/"
        },
        "id": "rw41M2TpBQKv",
        "outputId": "7eb14ba2-7f61-44fc-83c8-2db3099c3662"
      },
      "execution_count": 28,
      "outputs": [
        {
          "output_type": "stream",
          "name": "stdout",
          "text": [
            "True\n",
            "True\n"
          ]
        }
      ]
    },
    {
      "cell_type": "markdown",
      "source": [
        "### Most Values are True\n",
        "Almost any value is evaluated to `True` if it has some sort of content.\n",
        "\n",
        "Any string is `True`, except empty strings.\n",
        "\n",
        "Any number is `True`, except `0`.\n",
        "\n",
        "Any list, tuple, set, and dictionary are `True`, except empty ones."
      ],
      "metadata": {
        "id": "1Rx5tVEhBU2v"
      }
    },
    {
      "cell_type": "code",
      "source": [
        "bool(\"abc\")\n",
        "bool(123)\n",
        "bool([\"apple\", \"cherry\", \"banana\"])"
      ],
      "metadata": {
        "colab": {
          "base_uri": "https://localhost:8080/"
        },
        "id": "eVq0URTNBTDG",
        "outputId": "dbce154d-1997-4c0d-dda4-a7ce5dd73f2c"
      },
      "execution_count": 29,
      "outputs": [
        {
          "output_type": "execute_result",
          "data": {
            "text/plain": [
              "True"
            ]
          },
          "metadata": {},
          "execution_count": 29
        }
      ]
    },
    {
      "cell_type": "markdown",
      "source": [
        "### Some Values are False\n",
        "In fact, there are not many values that evaluate to `False`, except empty values, such as `()`, `[]`, `{}`, `\"\"`, the number `0`, and the value `None`. And of course the value `False` evaluates to `False`."
      ],
      "metadata": {
        "id": "aMSPNlPEBgv-"
      }
    },
    {
      "cell_type": "code",
      "source": [
        "bool(False)\n",
        "bool(None)\n",
        "bool(0)\n",
        "bool(\"\")\n",
        "bool(())\n",
        "bool([])\n",
        "bool({})"
      ],
      "metadata": {
        "colab": {
          "base_uri": "https://localhost:8080/"
        },
        "id": "-_iK0hFsBeET",
        "outputId": "c86bb01c-7a5b-4f7d-d5e3-6b998bddc44c"
      },
      "execution_count": 30,
      "outputs": [
        {
          "output_type": "execute_result",
          "data": {
            "text/plain": [
              "False"
            ]
          },
          "metadata": {},
          "execution_count": 30
        }
      ]
    },
    {
      "cell_type": "markdown",
      "source": [
        "One more value, or object in this case, evaluates to `False`, and that is if you have an object that is made from a class with a `__len__` function that returns `0` or `False`:"
      ],
      "metadata": {
        "id": "j3ATs4SAByym"
      }
    },
    {
      "cell_type": "code",
      "source": [
        "class myclass():\n",
        "  def __len__(self):\n",
        "    return 0\n",
        "\n",
        "myobj = myclass()\n",
        "print(bool(myobj))"
      ],
      "metadata": {
        "colab": {
          "base_uri": "https://localhost:8080/"
        },
        "id": "E8HH1KavBxBm",
        "outputId": "f2334a02-b411-474f-f313-717f364b2059"
      },
      "execution_count": 31,
      "outputs": [
        {
          "output_type": "stream",
          "name": "stdout",
          "text": [
            "False\n"
          ]
        }
      ]
    },
    {
      "cell_type": "markdown",
      "source": [
        "### Functions can Return a Boolean\n",
        "You can create functions that returns a Boolean Value:"
      ],
      "metadata": {
        "id": "cM9WSOISB64z"
      }
    },
    {
      "cell_type": "code",
      "source": [
        "def myFunction() :\n",
        "  return True\n",
        "\n",
        "print(myFunction())"
      ],
      "metadata": {
        "colab": {
          "base_uri": "https://localhost:8080/"
        },
        "id": "_tQSi0wDB4vG",
        "outputId": "a733821a-33b6-4158-cd8f-152615f5e8f4"
      },
      "execution_count": 32,
      "outputs": [
        {
          "output_type": "stream",
          "name": "stdout",
          "text": [
            "True\n"
          ]
        }
      ]
    },
    {
      "cell_type": "code",
      "source": [
        "# You can execute code based on the Boolean answer of a function:\n",
        "\n",
        "def myFunction() :\n",
        "  return True\n",
        "\n",
        "if myFunction():\n",
        "  print(\"YES!\")\n",
        "else:\n",
        "  print(\"NO!\")"
      ],
      "metadata": {
        "colab": {
          "base_uri": "https://localhost:8080/"
        },
        "id": "OxALmfL2CAM0",
        "outputId": "b2d491a3-9194-4813-be02-bf7416c590db"
      },
      "execution_count": 33,
      "outputs": [
        {
          "output_type": "stream",
          "name": "stdout",
          "text": [
            "YES!\n"
          ]
        }
      ]
    },
    {
      "cell_type": "markdown",
      "source": [
        "Python also has many built-in functions that return a boolean value, like the `isinstance()` function, which can be used to determine if an object is of a certain data type:"
      ],
      "metadata": {
        "id": "j8eAxEjACGLk"
      }
    },
    {
      "cell_type": "code",
      "source": [
        "x = 200\n",
        "print(isinstance(x, int))"
      ],
      "metadata": {
        "colab": {
          "base_uri": "https://localhost:8080/"
        },
        "id": "mBWY8eT3CEDc",
        "outputId": "10bc2c8c-a8c3-4598-cf30-6b8c6eae7878"
      },
      "execution_count": 34,
      "outputs": [
        {
          "output_type": "stream",
          "name": "stdout",
          "text": [
            "True\n"
          ]
        }
      ]
    }
  ]
}