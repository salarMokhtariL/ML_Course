{
  "nbformat": 4,
  "nbformat_minor": 0,
  "metadata": {
    "colab": {
      "name": "009_Python_Operators.ipynb",
      "provenance": [],
      "authorship_tag": "ABX9TyPbMizqJx/Y5Gcn3ah+gdE7",
      "include_colab_link": true
    },
    "kernelspec": {
      "name": "python3",
      "display_name": "Python 3"
    },
    "language_info": {
      "name": "python"
    }
  },
  "cells": [
    {
      "cell_type": "markdown",
      "metadata": {
        "id": "view-in-github",
        "colab_type": "text"
      },
      "source": [
        "<a href=\"https://colab.research.google.com/github/salarMokhtariL/ML_Course/blob/main/0000-Prerequisites_Python/009_Python_Operators.ipynb\" target=\"_parent\"><img src=\"https://colab.research.google.com/assets/colab-badge.svg\" alt=\"Open In Colab\"/></a>"
      ]
    },
    {
      "cell_type": "markdown",
      "source": [
        "# Python Operators\n",
        "Operators are used to perform operations on variables and values.\n",
        "\n",
        "In the example below, we use the + operator to add together two values:"
      ],
      "metadata": {
        "id": "6RPTR7f77ZyG"
      }
    },
    {
      "cell_type": "code",
      "source": [
        "print(10 + 5)"
      ],
      "metadata": {
        "colab": {
          "base_uri": "https://localhost:8080/"
        },
        "id": "O2vUct1u7tdi",
        "outputId": "2d2d0f80-ecf1-4877-86f0-3ac4c1fd00df"
      },
      "execution_count": 1,
      "outputs": [
        {
          "output_type": "stream",
          "name": "stdout",
          "text": [
            "15\n"
          ]
        }
      ]
    },
    {
      "cell_type": "markdown",
      "source": [
        "Python divides the operators in the following groups:\n",
        "\n",
        "\n",
        "  * Arithmetic operators\n",
        "  * Assignment operators\n",
        "  * Comparison operators\n",
        "  * Logical operators\n",
        "  * Identity operators\n",
        "  * Membership operators\n",
        "  * Bitwise operators"
      ],
      "metadata": {
        "id": "X8W46pxY70qk"
      }
    },
    {
      "cell_type": "markdown",
      "source": [
        "## Python Arithmetic Operators\n",
        "\n",
        "Arithmetic operators are used with numeric values to perform common mathematical operations:\n",
        "\n",
        "  `+` : Addition\tx + y\t\n",
        "  `-`\t: Subtraction\tx - y\t\n",
        "  `*`\t: Multiplication\tx * y\t\n",
        "  `/`\t: Division\tx / y\t\n",
        "  `%`\t: Modulus\tx % y\t\n",
        "  `**`\t: Exponentiation\tx ** y\t\n",
        "  `//`\t: Floor division\tx // y"
      ],
      "metadata": {
        "id": "05k0Y8HD8B76"
      }
    },
    {
      "cell_type": "markdown",
      "source": [
        "## Python Assignment Operators\n",
        "Assignment operators are used to assign values to variables:\n",
        "\n",
        "\n",
        "\n",
        "* `=` : x = 5, \tx = 5\t\n",
        "* `+=` : x += 3,\tx = x + 3\t\n",
        "* `-=` : x -= 3\t, x = x - 3\t\n",
        "* `*=` : x *= 3\t, x = x * 3\t\n",
        "* `/=`\t: x /= 3,\tx = x / 3\t\n",
        "* `%=`\t: x %= 3,\tx = x % 3\t\n",
        "* `//=`\t: x //= 3,\tx = x // 3\t\n",
        "* `**=`\t: x **= 3,\tx = x ** 3\t\n",
        "* `&=`\t: x &= 3,\tx = x & 3\t\n",
        "* `|=`\t: x |= 3,\tx = x | 3\t\n",
        "* `^=`\t: x ^= 3,\tx = x ^ 3\t\n",
        "* `>>=`\t: x >>= 3,\tx = x >> 3\t\n",
        "* `<<=`\t: x <<= 3,\tx = x << 3"
      ],
      "metadata": {
        "id": "I-mucz8Y8ouR"
      }
    },
    {
      "cell_type": "markdown",
      "source": [
        "## Python Comparison Operators\n",
        "\n",
        "Comparison operators are used to compare two values:\n",
        "\n",
        "* `==`\t: **Equal** , \tx == y\t\n",
        "* `!=`\t: **Not equal** , \tx != y\t\n",
        "* `>`\t: **Greater than** , \tx > y\t\n",
        "* `<`\t : **Less than**\t, x < y\t\n",
        "* `>=` :\t**Greater than or equal to** ,\tx >= y\t\n",
        "* `<=` : \t**Less than or equal to** ,\tx <= y"
      ],
      "metadata": {
        "id": "bRWmjVo09jGv"
      }
    },
    {
      "cell_type": "markdown",
      "source": [
        "## Python Logical Operators\n",
        "\n",
        "Logical operators are used to combine conditional statements:\n",
        "\n",
        "* `and` -:-\tReturns True if both statements are true\tx < 5 and  :: x < 10\t\n",
        "* `or`\t-:- Returns True if one of the statements is true\tx < 5 or :: x < 4\t\n",
        "* `not`\t-:- Reverse the result, returns False if the result is true\t:: not(x < 5 and x < 10)"
      ],
      "metadata": {
        "id": "y8uLmPl5-E2t"
      }
    },
    {
      "cell_type": "markdown",
      "source": [
        "## Python Identity Operators\n",
        "Identity operators are used to compare the objects, not if they are equal, but if they are actually the same object, with the same memory location:\n",
        "\n",
        "* `is` -:-\t**Returns True if both variables are the same object**\t:: *x is y*\t\n",
        "* `is not`\t-:- **Returns True if both variables are not the same object**\t:: *x is not y*"
      ],
      "metadata": {
        "id": "XczAkY1X-doj"
      }
    },
    {
      "cell_type": "markdown",
      "source": [
        "## Python Membership Operators\n",
        "Membership operators are used to test if a sequence is presented in an object:\n",
        "\n",
        "* `in` -:-\t**Returns True if a sequence with the specified value is present in the object** ::\t*x in y*\t\n",
        "* `not in`\t-:- **Returns True if a sequence with the specified value is not present in the object** ::\t*x not in y*"
      ],
      "metadata": {
        "id": "na_6Ka_K-yyb"
      }
    },
    {
      "cell_type": "markdown",
      "source": [
        "## Python Bitwise Operators\n",
        "\n",
        "Bitwise operators are used to compare (binary) numbers:\n",
        "\n",
        "* `&` -:-\t**AND**\t:: *Sets each bit to 1 if both bits are 1*\n",
        "* `|` -:-\t**OR** :: \t*Sets each bit to 1 if one of two bits is 1*\n",
        "* `^`\t-:- **XOR** ::\t*Sets each bit to 1 if only one of two bits is 1*\n",
        "* `~` -:-\t**NOT** ::\t*Inverts all the bits*\n",
        "* `<<` -:-\t**Zero** :: *fill left shift\tShift left by pushing zeros in from the right and let the leftmost bits fall off* \n",
        "* `>>`\t-:- **Signed right shift** :: *Shift right by pushing copies of the leftmost bit in from the left, and let the rightmost bits fall off*"
      ],
      "metadata": {
        "id": "td9-A7-8_HJ7"
      }
    }
  ]
}