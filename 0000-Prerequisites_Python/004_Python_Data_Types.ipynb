{
  "nbformat": 4,
  "nbformat_minor": 0,
  "metadata": {
    "colab": {
      "name": "004_Python_Data_Types.ipynb",
      "provenance": [],
      "authorship_tag": "ABX9TyNEHbT1cwnkPc5tcOFpc+5I",
      "include_colab_link": true
    },
    "kernelspec": {
      "name": "python3",
      "display_name": "Python 3"
    },
    "language_info": {
      "name": "python"
    }
  },
  "cells": [
    {
      "cell_type": "markdown",
      "metadata": {
        "id": "view-in-github",
        "colab_type": "text"
      },
      "source": [
        "<a href=\"https://colab.research.google.com/github/salarMokhtariL/ML_Course/blob/main/0000-Prerequisites_Python/004_Python_Data_Types.ipynb\" target=\"_parent\"><img src=\"https://colab.research.google.com/assets/colab-badge.svg\" alt=\"Open In Colab\"/></a>"
      ]
    },
    {
      "cell_type": "markdown",
      "source": [
        "# Python Data Types\n",
        "## Built-in Data Types\n",
        "In programming, data type is an important concept.\n",
        "\n",
        "\n",
        "Variables can store data of different types, and different types can do different things.\n",
        "\n",
        "\n",
        "Python has the following data types built-in by default, in \n",
        "these categories:\n"
      ],
      "metadata": {
        "id": "f8U7j0yH_94V"
      }
    },
    {
      "cell_type": "markdown",
      "source": [
        "* Text Type:\t`str`\n",
        "\n",
        "* Numeric Types:\t`int, float, complex`\n",
        "* Sequence Types:\t`list, tuple, range`\n",
        "* Mapping Type:\t`dict`\n",
        "* Set Types:\t`set, frozenset`\n",
        "* Boolean Type:\t`bool`\n",
        "* Binary Types:\tbytes, bytearray, memoryview"
      ],
      "metadata": {
        "id": "gC5x6Bt9AFm3"
      }
    },
    {
      "cell_type": "markdown",
      "source": [
        "### Getting the Data Type\n",
        "You can get the data type of any object by using the `type()` function:"
      ],
      "metadata": {
        "id": "0zNm1jdJAZwb"
      }
    },
    {
      "cell_type": "code",
      "execution_count": 1,
      "metadata": {
        "colab": {
          "base_uri": "https://localhost:8080/"
        },
        "id": "rV7gEMGH_ZEj",
        "outputId": "dabf6f5c-af98-4388-d37e-c824e0465b74"
      },
      "outputs": [
        {
          "output_type": "stream",
          "name": "stdout",
          "text": [
            "<class 'int'>\n"
          ]
        }
      ],
      "source": [
        "x = 5\n",
        "print(type(x))"
      ]
    }
  ]
}