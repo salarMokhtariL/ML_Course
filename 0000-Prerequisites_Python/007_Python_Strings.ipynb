{
  "nbformat": 4,
  "nbformat_minor": 0,
  "metadata": {
    "colab": {
      "name": "007_Python_Strings.ipynb",
      "provenance": [],
      "authorship_tag": "ABX9TyMtsw0eKzDC+eMEehc1FsXq",
      "include_colab_link": true
    },
    "kernelspec": {
      "name": "python3",
      "display_name": "Python 3"
    },
    "language_info": {
      "name": "python"
    }
  },
  "cells": [
    {
      "cell_type": "markdown",
      "metadata": {
        "id": "view-in-github",
        "colab_type": "text"
      },
      "source": [
        "<a href=\"https://colab.research.google.com/github/salarMokhtariL/ML_Course/blob/main/0000-Prerequisites_Python/007_Python_Strings.ipynb\" target=\"_parent\"><img src=\"https://colab.research.google.com/assets/colab-badge.svg\" alt=\"Open In Colab\"/></a>"
      ]
    },
    {
      "cell_type": "markdown",
      "source": [
        "# Python Strings\n",
        "\n",
        "## Strings\n",
        "\n",
        "Strings in python are surrounded by either single quotation marks, or double quotation marks.\n",
        "\n",
        "'hello' is the same as `\"hello\"`.\n",
        "\n",
        "You can display a string literal with the `print()` function:"
      ],
      "metadata": {
        "id": "RvB_Wo_w7NUJ"
      }
    },
    {
      "cell_type": "code",
      "source": [
        "print(\"Hello\")\n",
        "print('Hello')"
      ],
      "metadata": {
        "colab": {
          "base_uri": "https://localhost:8080/"
        },
        "id": "HA7iraW47bLj",
        "outputId": "a06bf376-d517-4d00-fbd1-d7f15263f5f1"
      },
      "execution_count": 4,
      "outputs": [
        {
          "output_type": "stream",
          "name": "stdout",
          "text": [
            "Hello\n",
            "Hello\n"
          ]
        }
      ]
    },
    {
      "cell_type": "markdown",
      "source": [
        "## Assign String to a Variable\n",
        "\n",
        "Assigning a string to a variable is done with the variable name followed by an equal sign and the string:"
      ],
      "metadata": {
        "id": "VlY1P78k7cmg"
      }
    },
    {
      "cell_type": "code",
      "source": [
        "a = \"Hello\"\n",
        "print(a)"
      ],
      "metadata": {
        "colab": {
          "base_uri": "https://localhost:8080/"
        },
        "id": "qF0lK8J07b2z",
        "outputId": "11ab18b6-a390-4759-d39c-c0bb7ef45098"
      },
      "execution_count": 5,
      "outputs": [
        {
          "output_type": "stream",
          "name": "stdout",
          "text": [
            "Hello\n"
          ]
        }
      ]
    },
    {
      "cell_type": "markdown",
      "source": [
        "## Multiline Strings\n",
        "\n",
        "You can assign a multiline string to a variable by using three quotes:"
      ],
      "metadata": {
        "id": "HIKxwVc87jF3"
      }
    },
    {
      "cell_type": "code",
      "source": [
        "a = \"\"\"Lorem ipsum dolor sit amet,\n",
        "consectetur adipiscing elit,\n",
        "sed do eiusmod tempor incididunt\n",
        "ut labore et dolore magna aliqua.\"\"\"\n",
        "print(a)"
      ],
      "metadata": {
        "colab": {
          "base_uri": "https://localhost:8080/"
        },
        "id": "5svpTgfQ7iV5",
        "outputId": "d012e136-61a1-409d-bf15-1659cc70010e"
      },
      "execution_count": 6,
      "outputs": [
        {
          "output_type": "stream",
          "name": "stdout",
          "text": [
            "Lorem ipsum dolor sit amet,\n",
            "consectetur adipiscing elit,\n",
            "sed do eiusmod tempor incididunt\n",
            "ut labore et dolore magna aliqua.\n"
          ]
        }
      ]
    },
    {
      "cell_type": "code",
      "source": [
        "# Or three single quotes:\n",
        "\n",
        "a = '''Lorem ipsum dolor sit amet,\n",
        "consectetur adipiscing elit,\n",
        "sed do eiusmod tempor incididunt\n",
        "ut labore et dolore magna aliqua.'''\n",
        "print(a)"
      ],
      "metadata": {
        "colab": {
          "base_uri": "https://localhost:8080/"
        },
        "id": "AWrYLi2L7q5i",
        "outputId": "dda571f6-7fdf-44b6-81f5-c214472ca204"
      },
      "execution_count": 7,
      "outputs": [
        {
          "output_type": "stream",
          "name": "stdout",
          "text": [
            "Lorem ipsum dolor sit amet,\n",
            "consectetur adipiscing elit,\n",
            "sed do eiusmod tempor incididunt\n",
            "ut labore et dolore magna aliqua.\n"
          ]
        }
      ]
    },
    {
      "cell_type": "markdown",
      "source": [
        "## Slicing Strings\n",
        "\n",
        "### Slicing\n",
        "\n",
        "You can return a range of characters by using the slice syntax.\n",
        "\n",
        "Specify the start index and the end index, separated by a colon, to return a part of the string."
      ],
      "metadata": {
        "id": "1yK1oZpG7zxO"
      }
    },
    {
      "cell_type": "code",
      "source": [
        "b = \"Hello, World!\"\n",
        "print(b[2:5])"
      ],
      "metadata": {
        "colab": {
          "base_uri": "https://localhost:8080/"
        },
        "id": "rtqAp5jH7wJY",
        "outputId": "053b9bd3-ac8d-4c48-f2ef-c0264d1c1787"
      },
      "execution_count": 8,
      "outputs": [
        {
          "output_type": "stream",
          "name": "stdout",
          "text": [
            "llo\n"
          ]
        }
      ]
    },
    {
      "cell_type": "markdown",
      "source": [
        "### Slice From the Start\n",
        "\n",
        "By leaving out the start index, the range will start at the first character:"
      ],
      "metadata": {
        "id": "T77YeL0g78CF"
      }
    },
    {
      "cell_type": "code",
      "source": [
        "b = \"Hello, World!\"\n",
        "print(b[:5])"
      ],
      "metadata": {
        "colab": {
          "base_uri": "https://localhost:8080/"
        },
        "id": "G9yPO9O377fD",
        "outputId": "61179e16-68d5-49c4-f980-e7e9d72013d4"
      },
      "execution_count": 9,
      "outputs": [
        {
          "output_type": "stream",
          "name": "stdout",
          "text": [
            "Hello\n"
          ]
        }
      ]
    },
    {
      "cell_type": "markdown",
      "source": [
        "### Slice To the End\n",
        "By leaving out the end index, the range will go to the end:"
      ],
      "metadata": {
        "id": "Fk1k80l38CoF"
      }
    },
    {
      "cell_type": "code",
      "source": [
        "b = \"Hello, World!\"\n",
        "print(b[2:])"
      ],
      "metadata": {
        "colab": {
          "base_uri": "https://localhost:8080/"
        },
        "id": "eldCvxdb8B0w",
        "outputId": "71c0f9bf-34fa-4aa1-e792-1de06a710f91"
      },
      "execution_count": 10,
      "outputs": [
        {
          "output_type": "stream",
          "name": "stdout",
          "text": [
            "llo, World!\n"
          ]
        }
      ]
    },
    {
      "cell_type": "markdown",
      "source": [
        "### Negative Indexing\n",
        "Use negative indexes to start the slice from the end of the string:"
      ],
      "metadata": {
        "id": "cu9g3vZY8J8k"
      }
    },
    {
      "cell_type": "code",
      "source": [
        "b = \"Hello, World!\"\n",
        "print(b[-5:-2])"
      ],
      "metadata": {
        "colab": {
          "base_uri": "https://localhost:8080/"
        },
        "id": "c9dWYQ9M8HXb",
        "outputId": "33ddb68c-cf0f-485d-841d-d5bf5bc809a6"
      },
      "execution_count": 11,
      "outputs": [
        {
          "output_type": "stream",
          "name": "stdout",
          "text": [
            "orl\n"
          ]
        }
      ]
    },
    {
      "cell_type": "markdown",
      "source": [
        "### Modify Strings\n",
        "Python has a set of built-in methods that you can use on strings.\n",
        "\n"
      ],
      "metadata": {
        "id": "9ImC_Mw28Rig"
      }
    },
    {
      "cell_type": "code",
      "source": [
        "# Upper Case\n",
        "\n",
        "a = \"Hello, World!\"\n",
        "print(a.upper())"
      ],
      "metadata": {
        "colab": {
          "base_uri": "https://localhost:8080/"
        },
        "id": "6vNc3Yuz8N-b",
        "outputId": "6a1f2eea-e5df-46d5-98d7-731e7af4a0ce"
      },
      "execution_count": 12,
      "outputs": [
        {
          "output_type": "stream",
          "name": "stdout",
          "text": [
            "HELLO, WORLD!\n"
          ]
        }
      ]
    },
    {
      "cell_type": "code",
      "source": [
        "# Lower Case\n",
        "\n",
        "a = \"Hello, World!\"\n",
        "print(a.lower())"
      ],
      "metadata": {
        "colab": {
          "base_uri": "https://localhost:8080/"
        },
        "id": "7YcHhil78aGQ",
        "outputId": "c8417958-5fe3-4b02-95d4-84848f8a0ea8"
      },
      "execution_count": 13,
      "outputs": [
        {
          "output_type": "stream",
          "name": "stdout",
          "text": [
            "hello, world!\n"
          ]
        }
      ]
    },
    {
      "cell_type": "code",
      "source": [
        "'''\n",
        "Remove Whitespace :\n",
        "Whitespace is the space before and/or after the actual text, and very often you want to remove this space.\n",
        "'''\n",
        "\n",
        "a = \" Hello, World! \"\n",
        "print(a.strip()) # returns \"Hello, World!\""
      ],
      "metadata": {
        "colab": {
          "base_uri": "https://localhost:8080/"
        },
        "id": "QLf8Yh7V8dz_",
        "outputId": "22efb972-90a3-4c93-a8ac-0ff383b1c8a7"
      },
      "execution_count": 14,
      "outputs": [
        {
          "output_type": "stream",
          "name": "stdout",
          "text": [
            "Hello, World!\n"
          ]
        }
      ]
    },
    {
      "cell_type": "code",
      "source": [
        "# Replace String\n",
        "\n",
        "a = \"Hello, World!\"\n",
        "print(a.replace(\"H\", \"J\"))"
      ],
      "metadata": {
        "colab": {
          "base_uri": "https://localhost:8080/"
        },
        "id": "osrqB7L08qBH",
        "outputId": "f5ce4789-7663-4121-8c04-7f355463d613"
      },
      "execution_count": 15,
      "outputs": [
        {
          "output_type": "stream",
          "name": "stdout",
          "text": [
            "Jello, World!\n"
          ]
        }
      ]
    },
    {
      "cell_type": "markdown",
      "source": [
        "### Split String\n",
        "\n",
        "The `split()` method returns a list where the text between the specified separator becomes the list items."
      ],
      "metadata": {
        "id": "dAdUo-7-83yk"
      }
    },
    {
      "cell_type": "code",
      "source": [
        "a = \"Hello, World!\"\n",
        "print(a.split(\",\")) "
      ],
      "metadata": {
        "colab": {
          "base_uri": "https://localhost:8080/"
        },
        "id": "uZCkBFyQ82A4",
        "outputId": "819bc49d-48ae-473b-d812-5a042db76cbf"
      },
      "execution_count": 16,
      "outputs": [
        {
          "output_type": "stream",
          "name": "stdout",
          "text": [
            "['Hello', ' World!']\n"
          ]
        }
      ]
    },
    {
      "cell_type": "markdown",
      "source": [
        "### String Concatenation\n",
        "\n",
        "To concatenate, or combine, two strings you can use the `+` operator.\n",
        "\n"
      ],
      "metadata": {
        "id": "kdjjvNz19LeC"
      }
    },
    {
      "cell_type": "code",
      "source": [
        "a = \"Hello\"\n",
        "b = \"World\"\n",
        "c = a + b\n",
        "print(c)"
      ],
      "metadata": {
        "colab": {
          "base_uri": "https://localhost:8080/"
        },
        "id": "KjKsbQwJ8-PW",
        "outputId": "105d5a37-96cd-4953-9a75-9ee5ba9b7ac3"
      },
      "execution_count": 17,
      "outputs": [
        {
          "output_type": "stream",
          "name": "stdout",
          "text": [
            "HelloWorld\n"
          ]
        }
      ]
    },
    {
      "cell_type": "code",
      "source": [
        "a = \"Hello\"\n",
        "b = \"World\"\n",
        "c = a + \" \" + b\n",
        "print(c)"
      ],
      "metadata": {
        "colab": {
          "base_uri": "https://localhost:8080/"
        },
        "id": "xvjUmbqD9YJA",
        "outputId": "8d4900f1-9bab-48f1-d075-96d74fcfb396"
      },
      "execution_count": 18,
      "outputs": [
        {
          "output_type": "stream",
          "name": "stdout",
          "text": [
            "Hello World\n"
          ]
        }
      ]
    },
    {
      "cell_type": "markdown",
      "source": [
        "### Format - Strings\n",
        "\n",
        "As we learned in the Python Variables chapter, we cannot combine strings and numbers like this:\n",
        "\n"
      ],
      "metadata": {
        "id": "nnssxGmd9d-w"
      }
    },
    {
      "cell_type": "code",
      "source": [
        "age = 36\n",
        "txt = \"My name is John, I am \" + age\n",
        "print(txt)"
      ],
      "metadata": {
        "colab": {
          "base_uri": "https://localhost:8080/",
          "height": 200
        },
        "id": "Wkg4iLOf9arA",
        "outputId": "55adf318-d9f6-4f01-cc67-c2e02a3b67c0"
      },
      "execution_count": 19,
      "outputs": [
        {
          "output_type": "error",
          "ename": "TypeError",
          "evalue": "ignored",
          "traceback": [
            "\u001b[0;31m---------------------------------------------------------------------------\u001b[0m",
            "\u001b[0;31mTypeError\u001b[0m                                 Traceback (most recent call last)",
            "\u001b[0;32m<ipython-input-19-4d1b227cff41>\u001b[0m in \u001b[0;36m<module>\u001b[0;34m()\u001b[0m\n\u001b[1;32m      1\u001b[0m \u001b[0mage\u001b[0m \u001b[0;34m=\u001b[0m \u001b[0;36m36\u001b[0m\u001b[0;34m\u001b[0m\u001b[0;34m\u001b[0m\u001b[0m\n\u001b[0;32m----> 2\u001b[0;31m \u001b[0mtxt\u001b[0m \u001b[0;34m=\u001b[0m \u001b[0;34m\"My name is John, I am \"\u001b[0m \u001b[0;34m+\u001b[0m \u001b[0mage\u001b[0m\u001b[0;34m\u001b[0m\u001b[0;34m\u001b[0m\u001b[0m\n\u001b[0m\u001b[1;32m      3\u001b[0m \u001b[0mprint\u001b[0m\u001b[0;34m(\u001b[0m\u001b[0mtxt\u001b[0m\u001b[0;34m)\u001b[0m\u001b[0;34m\u001b[0m\u001b[0;34m\u001b[0m\u001b[0m\n",
            "\u001b[0;31mTypeError\u001b[0m: can only concatenate str (not \"int\") to str"
          ]
        }
      ]
    },
    {
      "cell_type": "markdown",
      "source": [
        "But we can combine strings and numbers by using the `format()` method!\n",
        "\n",
        "The `format()` method takes the passed arguments, formats them, and places them in the string where the placeholders {} are:"
      ],
      "metadata": {
        "id": "nwBI1toO-NHO"
      }
    },
    {
      "cell_type": "code",
      "source": [
        "age = 36\n",
        "txt = \"My name is John, and I am {}\"\n",
        "print(txt.format(age))"
      ],
      "metadata": {
        "colab": {
          "base_uri": "https://localhost:8080/"
        },
        "id": "C1d4GAXc-H0J",
        "outputId": "65e9b9f9-eec7-4549-d710-350db5e67e35"
      },
      "execution_count": 20,
      "outputs": [
        {
          "output_type": "stream",
          "name": "stdout",
          "text": [
            "My name is John, and I am 36\n"
          ]
        }
      ]
    },
    {
      "cell_type": "markdown",
      "source": [
        "The `format()` method takes unlimited number of arguments, and are placed into the respective placeholders:"
      ],
      "metadata": {
        "id": "ohaN51Xy-Wqu"
      }
    },
    {
      "cell_type": "code",
      "source": [
        "quantity = 3\n",
        "itemno = 567\n",
        "price = 49.95\n",
        "myorder = \"I want {} pieces of item {} for {} dollars.\"\n",
        "print(myorder.format(quantity, itemno, price))"
      ],
      "metadata": {
        "colab": {
          "base_uri": "https://localhost:8080/"
        },
        "id": "f-lMhHNv-UdT",
        "outputId": "a2b19385-7910-44e4-93ef-27564888139b"
      },
      "execution_count": 21,
      "outputs": [
        {
          "output_type": "stream",
          "name": "stdout",
          "text": [
            "I want 3 pieces of item 567 for 49.95 dollars.\n"
          ]
        }
      ]
    },
    {
      "cell_type": "markdown",
      "source": [
        "You can use index numbers `{0}` to be sure the arguments are placed in the correct placeholders:\n",
        "\n"
      ],
      "metadata": {
        "id": "MsU0Wyul-cke"
      }
    },
    {
      "cell_type": "code",
      "source": [
        "quantity = 3\n",
        "itemno = 567\n",
        "price = 49.95\n",
        "myorder = \"I want to pay {2} dollars for {0} pieces of item {1}.\"\n",
        "print(myorder.format(quantity, itemno, price))"
      ],
      "metadata": {
        "colab": {
          "base_uri": "https://localhost:8080/"
        },
        "id": "sk0VH_vc-a8y",
        "outputId": "f7d4bb4b-45c8-47b7-ef1b-6580efb8670b"
      },
      "execution_count": 22,
      "outputs": [
        {
          "output_type": "stream",
          "name": "stdout",
          "text": [
            "I want to pay 49.95 dollars for 3 pieces of item 567.\n"
          ]
        }
      ]
    },
    {
      "cell_type": "markdown",
      "source": [
        "### Escape Characters\n",
        "To insert characters that are illegal in a string, use an escape character.\n",
        "\n",
        "An escape character is a backslash \\ followed by the character you want to insert.\n",
        "\n",
        "An example of an illegal character is a double quote inside a string that is surrounded by double quotes:"
      ],
      "metadata": {
        "id": "lhZS7P8u-noc"
      }
    },
    {
      "cell_type": "code",
      "source": [
        "txt = \"We are the so-called \"Vikings\" from the north.\""
      ],
      "metadata": {
        "colab": {
          "base_uri": "https://localhost:8080/",
          "height": 130
        },
        "id": "RNEV3gXT-jAx",
        "outputId": "1b53992e-012e-4cd5-f8ba-9932ef38f203"
      },
      "execution_count": 23,
      "outputs": [
        {
          "output_type": "error",
          "ename": "SyntaxError",
          "evalue": "ignored",
          "traceback": [
            "\u001b[0;36m  File \u001b[0;32m\"<ipython-input-23-56cdf4283a8e>\"\u001b[0;36m, line \u001b[0;32m1\u001b[0m\n\u001b[0;31m    txt = \"We are the so-called \"Vikings\" from the north.\"\u001b[0m\n\u001b[0m                                       ^\u001b[0m\n\u001b[0;31mSyntaxError\u001b[0m\u001b[0;31m:\u001b[0m invalid syntax\n"
          ]
        }
      ]
    },
    {
      "cell_type": "markdown",
      "source": [
        "To fix this problem, use the escape character` \\\":`\n",
        "\n"
      ],
      "metadata": {
        "id": "Bo3R20gz-w8f"
      }
    },
    {
      "cell_type": "code",
      "source": [
        "txt = \"We are the so-called \\\"Vikings\\\" from the north.\""
      ],
      "metadata": {
        "id": "W-pTtf-v-wVL"
      },
      "execution_count": 24,
      "outputs": []
    },
    {
      "cell_type": "markdown",
      "source": [
        "### Escape Characters\n",
        "\n",
        "* \\\\'----------------Single Quote\n",
        "* \\\\\\----------------Backslash\t\n",
        "* \\n----------------New Line\t\n",
        "* \\r----------------Carriage Return\t\n",
        "* \\t----------------Tab\t\n",
        "* \\b----------------Backspace\t\n",
        "* \\f----------------Form Feed\t\n",
        "* \\ooo----------------Octal value\t\n",
        "* \\xhh----------------Hex value"
      ],
      "metadata": {
        "id": "NP68Rhiw-3aU"
      }
    },
    {
      "cell_type": "markdown",
      "source": [
        "### String Methods\n",
        "\n",
        "capitalize()\tConverts the first character to upper case\n",
        "\n",
        "casefold()\tConverts string into lower case\n",
        "\n",
        "center()\tReturns a centered string\n",
        "\n",
        "count()\tReturns the number of times a specified value occurs in a string\n",
        "\n",
        "encode()\tReturns an encoded version of the string\n",
        "\n",
        "endswith()\tReturns true if the string ends with the specified value\n",
        "\n",
        "expandtabs()\tSets the tab size of the string\n",
        "\n",
        "find()\tSearches the string for a specified value and returns the position of where it was found\n",
        "\n",
        "format()\tFormats specified values in a string\n",
        "\n",
        "format_map()\tFormats specified values in a string\n",
        "\n",
        "index()\tSearches the string for a specified value and returns the position of where it was found\n",
        "\n",
        "isalnum()\tReturns True if all characters in the string are alphanumeric\n",
        "\n",
        "isalpha()\tReturns True if all characters in the string are in the alphabet\n",
        "\n",
        "isdecimal()\tReturns True if all characters in the string are decimals\n",
        "\n",
        "isdigit()\tReturns True if all characters in the string are digits\n",
        "\n",
        "isidentifier()\tReturns True if the string is an identifier\n",
        "\n",
        "islower()\tReturns True if all characters in the string are lower case\n",
        "\n",
        "isnumeric()\tReturns True if all characters in the string are numeric\n",
        "\n",
        "isprintable()\tReturns True if all characters in the string are printable\n",
        "\n",
        "isspace()\tReturns True if all characters in the string are whitespaces\n",
        "\n",
        "istitle()\tReturns True if the string follows the rules of a title\n",
        "\n",
        "isupper()\tReturns True if all characters in the string are upper case\n",
        "\n",
        "join()\tJoins the elements of an iterable to the end of the string\n",
        "\n",
        "ljust()\tReturns a left justified version of the string\n",
        "\n",
        "lower()\tConverts a string into lower case\n",
        "\n",
        "lstrip()\tReturns a left trim version of the string\n",
        "\n",
        "maketrans()\tReturns a translation table to be used in translations\n",
        "\n",
        "partition()\tReturns a tuple where the string is parted into three parts\n",
        "\n",
        "replace()\tReturns a string where a specified value is replaced with a specified value\n",
        "\n",
        "rfind()\tSearches the string for a specified value and returns the last position of where it was found\n",
        "\n",
        "rindex()\tSearches the string for a specified value and returns the last position of where it was found\n",
        "\n",
        "rjust()\tReturns a right justified version of the string\n",
        "\n",
        "rpartition()\tReturns a tuple where the string is parted into three parts\n",
        "\n",
        "rsplit()\tSplits the string at the specified separator, and returns a list\n",
        "\n",
        "rstrip()\tReturns a right trim version of the string\n",
        "\n",
        "split()\tSplits the string at the specified separator, and returns a list\n",
        "\n",
        "splitlines()\tSplits the string at line breaks and returns a list\n",
        "\n",
        "startswith()\tReturns true if the string starts with the specified value\n",
        "\n",
        "strip()\tReturns a trimmed version of the string\n",
        "\n",
        "swapcase()\tSwaps cases, lower case becomes upper case and vice versa\n",
        "\n",
        "title()\tConverts the first character of each word to upper case\n",
        "\n",
        "translate()\tReturns a translated string\n",
        "\n",
        "upper()\tConverts a string into upper case\n",
        "\n",
        "zfill()\tFills the string with a specified number of 0 values at the beginning"
      ],
      "metadata": {
        "id": "LECkmc___eG8"
      }
    },
    {
      "cell_type": "code",
      "source": [
        ""
      ],
      "metadata": {
        "id": "t3h_J-yw-1q0"
      },
      "execution_count": null,
      "outputs": []
    }
  ]
}